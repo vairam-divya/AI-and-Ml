{
  "nbformat": 4,
  "nbformat_minor": 0,
  "metadata": {
    "colab": {
      "provenance": []
    },
    "kernelspec": {
      "name": "python3",
      "display_name": "Python 3"
    },
    "language_info": {
      "name": "python"
    }
  },
  "cells": [
    {
      "cell_type": "code",
      "execution_count": null,
      "metadata": {
        "id": "yhNLGpjoN0xn"
      },
      "outputs": [],
      "source": [
        "#import required libraries\n",
        "import pandas as pd\n",
        "import matplotlib.pyplot as plt\n",
        "%matplotlib inline\n",
        "import seaborn as sns\n",
        "from sklearn.model_selection import train_test_split\n",
        "from sklearn.preprocessing import StandardScaler\n",
        "from sklearn.linear_model import LinearRegression\n",
        "from sklearn import metrics"
      ]
    },
    {
      "cell_type": "markdown",
      "source": [
        "**Importing all the important libraries for the given task**"
      ],
      "metadata": {
        "id": "-6_zv0jpSlju"
      }
    },
    {
      "cell_type": "code",
      "source": [
        "car_data = pd.read_csv('/content/Used Car Dataset.csv')"
      ],
      "metadata": {
        "id": "ACPgpYcdSqSv"
      },
      "execution_count": null,
      "outputs": []
    },
    {
      "cell_type": "markdown",
      "source": [
        "\n",
        "Firstly,we should read the given dataset"
      ],
      "metadata": {
        "id": "ooXzEI0RSvn6"
      }
    },
    {
      "cell_type": "markdown",
      "source": [
        "**Displaying the first 5 values in dataset**"
      ],
      "metadata": {
        "id": "fk2heE6USxN-"
      }
    },
    {
      "cell_type": "code",
      "source": [
        "car_data.head()"
      ],
      "metadata": {
        "colab": {
          "base_uri": "https://localhost:8080/",
          "height": 573
        },
        "id": "h2m69n39S16s",
        "outputId": "d26c75f6-9143-4594-b5bc-064916384c4f"
      },
      "execution_count": null,
      "outputs": [
        {
          "output_type": "execute_result",
          "data": {
            "text/plain": [
              "   Unnamed: 0                                           car_name  \\\n",
              "0           0                    2017 Mercedes-Benz S-Class S400   \n",
              "1           1  2020 Nissan Magnite Turbo CVT XV Premium Opt BSVI   \n",
              "2           2                       2018 BMW X1 sDrive 20d xLine   \n",
              "3           3                           2019 Kia Seltos GTX Plus   \n",
              "4           4                    2019 Skoda Superb LK 1.8 TSI AT   \n",
              "\n",
              "  registration_year insurance_validity fuel_type  seats  kms_driven  \\\n",
              "0            Jul-17      Comprehensive    Petrol      5       56000   \n",
              "1            Jan-21      Comprehensive    Petrol      5       30615   \n",
              "2            Sep-18      Comprehensive    Diesel      5       24000   \n",
              "3            Dec-19      Comprehensive    Petrol      5       18378   \n",
              "4            Aug-19      Comprehensive    Petrol      5       44900   \n",
              "\n",
              "    ownsership transmission manufacturing_year  mileage(kmpl)  engine(cc)  \\\n",
              "0  First Owner    Automatic               2017           7.81      2996.0   \n",
              "1  First Owner    Automatic               2020          17.40       999.0   \n",
              "2  First Owner    Automatic               2018          20.68      1995.0   \n",
              "3  First Owner       Manual               2019          16.50      1353.0   \n",
              "4  First Owner    Automatic               2019          14.67      1798.0   \n",
              "\n",
              "   max_power(bhp)  torque(Nm)  price(in lakhs)  \n",
              "0          2996.0       333.0            63.75  \n",
              "1           999.0      9863.0             8.99  \n",
              "2          1995.0       188.0            23.75  \n",
              "3          1353.0     13808.0            13.56  \n",
              "4          1798.0     17746.0            24.00  "
            ],
            "text/html": [
              "\n",
              "  <div id=\"df-5aee79ae-3f3f-4837-87e1-57d6aeb2f690\" class=\"colab-df-container\">\n",
              "    <div>\n",
              "<style scoped>\n",
              "    .dataframe tbody tr th:only-of-type {\n",
              "        vertical-align: middle;\n",
              "    }\n",
              "\n",
              "    .dataframe tbody tr th {\n",
              "        vertical-align: top;\n",
              "    }\n",
              "\n",
              "    .dataframe thead th {\n",
              "        text-align: right;\n",
              "    }\n",
              "</style>\n",
              "<table border=\"1\" class=\"dataframe\">\n",
              "  <thead>\n",
              "    <tr style=\"text-align: right;\">\n",
              "      <th></th>\n",
              "      <th>Unnamed: 0</th>\n",
              "      <th>car_name</th>\n",
              "      <th>registration_year</th>\n",
              "      <th>insurance_validity</th>\n",
              "      <th>fuel_type</th>\n",
              "      <th>seats</th>\n",
              "      <th>kms_driven</th>\n",
              "      <th>ownsership</th>\n",
              "      <th>transmission</th>\n",
              "      <th>manufacturing_year</th>\n",
              "      <th>mileage(kmpl)</th>\n",
              "      <th>engine(cc)</th>\n",
              "      <th>max_power(bhp)</th>\n",
              "      <th>torque(Nm)</th>\n",
              "      <th>price(in lakhs)</th>\n",
              "    </tr>\n",
              "  </thead>\n",
              "  <tbody>\n",
              "    <tr>\n",
              "      <th>0</th>\n",
              "      <td>0</td>\n",
              "      <td>2017 Mercedes-Benz S-Class S400</td>\n",
              "      <td>Jul-17</td>\n",
              "      <td>Comprehensive</td>\n",
              "      <td>Petrol</td>\n",
              "      <td>5</td>\n",
              "      <td>56000</td>\n",
              "      <td>First Owner</td>\n",
              "      <td>Automatic</td>\n",
              "      <td>2017</td>\n",
              "      <td>7.81</td>\n",
              "      <td>2996.0</td>\n",
              "      <td>2996.0</td>\n",
              "      <td>333.0</td>\n",
              "      <td>63.75</td>\n",
              "    </tr>\n",
              "    <tr>\n",
              "      <th>1</th>\n",
              "      <td>1</td>\n",
              "      <td>2020 Nissan Magnite Turbo CVT XV Premium Opt BSVI</td>\n",
              "      <td>Jan-21</td>\n",
              "      <td>Comprehensive</td>\n",
              "      <td>Petrol</td>\n",
              "      <td>5</td>\n",
              "      <td>30615</td>\n",
              "      <td>First Owner</td>\n",
              "      <td>Automatic</td>\n",
              "      <td>2020</td>\n",
              "      <td>17.40</td>\n",
              "      <td>999.0</td>\n",
              "      <td>999.0</td>\n",
              "      <td>9863.0</td>\n",
              "      <td>8.99</td>\n",
              "    </tr>\n",
              "    <tr>\n",
              "      <th>2</th>\n",
              "      <td>2</td>\n",
              "      <td>2018 BMW X1 sDrive 20d xLine</td>\n",
              "      <td>Sep-18</td>\n",
              "      <td>Comprehensive</td>\n",
              "      <td>Diesel</td>\n",
              "      <td>5</td>\n",
              "      <td>24000</td>\n",
              "      <td>First Owner</td>\n",
              "      <td>Automatic</td>\n",
              "      <td>2018</td>\n",
              "      <td>20.68</td>\n",
              "      <td>1995.0</td>\n",
              "      <td>1995.0</td>\n",
              "      <td>188.0</td>\n",
              "      <td>23.75</td>\n",
              "    </tr>\n",
              "    <tr>\n",
              "      <th>3</th>\n",
              "      <td>3</td>\n",
              "      <td>2019 Kia Seltos GTX Plus</td>\n",
              "      <td>Dec-19</td>\n",
              "      <td>Comprehensive</td>\n",
              "      <td>Petrol</td>\n",
              "      <td>5</td>\n",
              "      <td>18378</td>\n",
              "      <td>First Owner</td>\n",
              "      <td>Manual</td>\n",
              "      <td>2019</td>\n",
              "      <td>16.50</td>\n",
              "      <td>1353.0</td>\n",
              "      <td>1353.0</td>\n",
              "      <td>13808.0</td>\n",
              "      <td>13.56</td>\n",
              "    </tr>\n",
              "    <tr>\n",
              "      <th>4</th>\n",
              "      <td>4</td>\n",
              "      <td>2019 Skoda Superb LK 1.8 TSI AT</td>\n",
              "      <td>Aug-19</td>\n",
              "      <td>Comprehensive</td>\n",
              "      <td>Petrol</td>\n",
              "      <td>5</td>\n",
              "      <td>44900</td>\n",
              "      <td>First Owner</td>\n",
              "      <td>Automatic</td>\n",
              "      <td>2019</td>\n",
              "      <td>14.67</td>\n",
              "      <td>1798.0</td>\n",
              "      <td>1798.0</td>\n",
              "      <td>17746.0</td>\n",
              "      <td>24.00</td>\n",
              "    </tr>\n",
              "  </tbody>\n",
              "</table>\n",
              "</div>\n",
              "    <div class=\"colab-df-buttons\">\n",
              "\n",
              "  <div class=\"colab-df-container\">\n",
              "    <button class=\"colab-df-convert\" onclick=\"convertToInteractive('df-5aee79ae-3f3f-4837-87e1-57d6aeb2f690')\"\n",
              "            title=\"Convert this dataframe to an interactive table.\"\n",
              "            style=\"display:none;\">\n",
              "\n",
              "  <svg xmlns=\"http://www.w3.org/2000/svg\" height=\"24px\" viewBox=\"0 -960 960 960\">\n",
              "    <path d=\"M120-120v-720h720v720H120Zm60-500h600v-160H180v160Zm220 220h160v-160H400v160Zm0 220h160v-160H400v160ZM180-400h160v-160H180v160Zm440 0h160v-160H620v160ZM180-180h160v-160H180v160Zm440 0h160v-160H620v160Z\"/>\n",
              "  </svg>\n",
              "    </button>\n",
              "\n",
              "  <style>\n",
              "    .colab-df-container {\n",
              "      display:flex;\n",
              "      gap: 12px;\n",
              "    }\n",
              "\n",
              "    .colab-df-convert {\n",
              "      background-color: #E8F0FE;\n",
              "      border: none;\n",
              "      border-radius: 50%;\n",
              "      cursor: pointer;\n",
              "      display: none;\n",
              "      fill: #1967D2;\n",
              "      height: 32px;\n",
              "      padding: 0 0 0 0;\n",
              "      width: 32px;\n",
              "    }\n",
              "\n",
              "    .colab-df-convert:hover {\n",
              "      background-color: #E2EBFA;\n",
              "      box-shadow: 0px 1px 2px rgba(60, 64, 67, 0.3), 0px 1px 3px 1px rgba(60, 64, 67, 0.15);\n",
              "      fill: #174EA6;\n",
              "    }\n",
              "\n",
              "    .colab-df-buttons div {\n",
              "      margin-bottom: 4px;\n",
              "    }\n",
              "\n",
              "    [theme=dark] .colab-df-convert {\n",
              "      background-color: #3B4455;\n",
              "      fill: #D2E3FC;\n",
              "    }\n",
              "\n",
              "    [theme=dark] .colab-df-convert:hover {\n",
              "      background-color: #434B5C;\n",
              "      box-shadow: 0px 1px 3px 1px rgba(0, 0, 0, 0.15);\n",
              "      filter: drop-shadow(0px 1px 2px rgba(0, 0, 0, 0.3));\n",
              "      fill: #FFFFFF;\n",
              "    }\n",
              "  </style>\n",
              "\n",
              "    <script>\n",
              "      const buttonEl =\n",
              "        document.querySelector('#df-5aee79ae-3f3f-4837-87e1-57d6aeb2f690 button.colab-df-convert');\n",
              "      buttonEl.style.display =\n",
              "        google.colab.kernel.accessAllowed ? 'block' : 'none';\n",
              "\n",
              "      async function convertToInteractive(key) {\n",
              "        const element = document.querySelector('#df-5aee79ae-3f3f-4837-87e1-57d6aeb2f690');\n",
              "        const dataTable =\n",
              "          await google.colab.kernel.invokeFunction('convertToInteractive',\n",
              "                                                    [key], {});\n",
              "        if (!dataTable) return;\n",
              "\n",
              "        const docLinkHtml = 'Like what you see? Visit the ' +\n",
              "          '<a target=\"_blank\" href=https://colab.research.google.com/notebooks/data_table.ipynb>data table notebook</a>'\n",
              "          + ' to learn more about interactive tables.';\n",
              "        element.innerHTML = '';\n",
              "        dataTable['output_type'] = 'display_data';\n",
              "        await google.colab.output.renderOutput(dataTable, element);\n",
              "        const docLink = document.createElement('div');\n",
              "        docLink.innerHTML = docLinkHtml;\n",
              "        element.appendChild(docLink);\n",
              "      }\n",
              "    </script>\n",
              "  </div>\n",
              "\n",
              "\n",
              "<div id=\"df-297bcc3a-a6a8-4b6f-991e-a3b4924bda6f\">\n",
              "  <button class=\"colab-df-quickchart\" onclick=\"quickchart('df-297bcc3a-a6a8-4b6f-991e-a3b4924bda6f')\"\n",
              "            title=\"Suggest charts\"\n",
              "            style=\"display:none;\">\n",
              "\n",
              "<svg xmlns=\"http://www.w3.org/2000/svg\" height=\"24px\"viewBox=\"0 0 24 24\"\n",
              "     width=\"24px\">\n",
              "    <g>\n",
              "        <path d=\"M19 3H5c-1.1 0-2 .9-2 2v14c0 1.1.9 2 2 2h14c1.1 0 2-.9 2-2V5c0-1.1-.9-2-2-2zM9 17H7v-7h2v7zm4 0h-2V7h2v10zm4 0h-2v-4h2v4z\"/>\n",
              "    </g>\n",
              "</svg>\n",
              "  </button>\n",
              "\n",
              "<style>\n",
              "  .colab-df-quickchart {\n",
              "      --bg-color: #E8F0FE;\n",
              "      --fill-color: #1967D2;\n",
              "      --hover-bg-color: #E2EBFA;\n",
              "      --hover-fill-color: #174EA6;\n",
              "      --disabled-fill-color: #AAA;\n",
              "      --disabled-bg-color: #DDD;\n",
              "  }\n",
              "\n",
              "  [theme=dark] .colab-df-quickchart {\n",
              "      --bg-color: #3B4455;\n",
              "      --fill-color: #D2E3FC;\n",
              "      --hover-bg-color: #434B5C;\n",
              "      --hover-fill-color: #FFFFFF;\n",
              "      --disabled-bg-color: #3B4455;\n",
              "      --disabled-fill-color: #666;\n",
              "  }\n",
              "\n",
              "  .colab-df-quickchart {\n",
              "    background-color: var(--bg-color);\n",
              "    border: none;\n",
              "    border-radius: 50%;\n",
              "    cursor: pointer;\n",
              "    display: none;\n",
              "    fill: var(--fill-color);\n",
              "    height: 32px;\n",
              "    padding: 0;\n",
              "    width: 32px;\n",
              "  }\n",
              "\n",
              "  .colab-df-quickchart:hover {\n",
              "    background-color: var(--hover-bg-color);\n",
              "    box-shadow: 0 1px 2px rgba(60, 64, 67, 0.3), 0 1px 3px 1px rgba(60, 64, 67, 0.15);\n",
              "    fill: var(--button-hover-fill-color);\n",
              "  }\n",
              "\n",
              "  .colab-df-quickchart-complete:disabled,\n",
              "  .colab-df-quickchart-complete:disabled:hover {\n",
              "    background-color: var(--disabled-bg-color);\n",
              "    fill: var(--disabled-fill-color);\n",
              "    box-shadow: none;\n",
              "  }\n",
              "\n",
              "  .colab-df-spinner {\n",
              "    border: 2px solid var(--fill-color);\n",
              "    border-color: transparent;\n",
              "    border-bottom-color: var(--fill-color);\n",
              "    animation:\n",
              "      spin 1s steps(1) infinite;\n",
              "  }\n",
              "\n",
              "  @keyframes spin {\n",
              "    0% {\n",
              "      border-color: transparent;\n",
              "      border-bottom-color: var(--fill-color);\n",
              "      border-left-color: var(--fill-color);\n",
              "    }\n",
              "    20% {\n",
              "      border-color: transparent;\n",
              "      border-left-color: var(--fill-color);\n",
              "      border-top-color: var(--fill-color);\n",
              "    }\n",
              "    30% {\n",
              "      border-color: transparent;\n",
              "      border-left-color: var(--fill-color);\n",
              "      border-top-color: var(--fill-color);\n",
              "      border-right-color: var(--fill-color);\n",
              "    }\n",
              "    40% {\n",
              "      border-color: transparent;\n",
              "      border-right-color: var(--fill-color);\n",
              "      border-top-color: var(--fill-color);\n",
              "    }\n",
              "    60% {\n",
              "      border-color: transparent;\n",
              "      border-right-color: var(--fill-color);\n",
              "    }\n",
              "    80% {\n",
              "      border-color: transparent;\n",
              "      border-right-color: var(--fill-color);\n",
              "      border-bottom-color: var(--fill-color);\n",
              "    }\n",
              "    90% {\n",
              "      border-color: transparent;\n",
              "      border-bottom-color: var(--fill-color);\n",
              "    }\n",
              "  }\n",
              "</style>\n",
              "\n",
              "  <script>\n",
              "    async function quickchart(key) {\n",
              "      const quickchartButtonEl =\n",
              "        document.querySelector('#' + key + ' button');\n",
              "      quickchartButtonEl.disabled = true;  // To prevent multiple clicks.\n",
              "      quickchartButtonEl.classList.add('colab-df-spinner');\n",
              "      try {\n",
              "        const charts = await google.colab.kernel.invokeFunction(\n",
              "            'suggestCharts', [key], {});\n",
              "      } catch (error) {\n",
              "        console.error('Error during call to suggestCharts:', error);\n",
              "      }\n",
              "      quickchartButtonEl.classList.remove('colab-df-spinner');\n",
              "      quickchartButtonEl.classList.add('colab-df-quickchart-complete');\n",
              "    }\n",
              "    (() => {\n",
              "      let quickchartButtonEl =\n",
              "        document.querySelector('#df-297bcc3a-a6a8-4b6f-991e-a3b4924bda6f button');\n",
              "      quickchartButtonEl.style.display =\n",
              "        google.colab.kernel.accessAllowed ? 'block' : 'none';\n",
              "    })();\n",
              "  </script>\n",
              "</div>\n",
              "\n",
              "    </div>\n",
              "  </div>\n"
            ]
          },
          "metadata": {},
          "execution_count": 327
        }
      ]
    },
    {
      "cell_type": "markdown",
      "source": [
        "**Displaying the last 5 values in dataset**"
      ],
      "metadata": {
        "id": "pbPKyCEZTAOl"
      }
    },
    {
      "cell_type": "code",
      "source": [
        "car_data.tail()"
      ],
      "metadata": {
        "colab": {
          "base_uri": "https://localhost:8080/",
          "height": 521
        },
        "id": "M5ojfvdxTC8w",
        "outputId": "6398e2a1-3165-4757-edf1-595d254fff4f"
      },
      "execution_count": null,
      "outputs": [
        {
          "output_type": "execute_result",
          "data": {
            "text/plain": [
              "      Unnamed: 0                                  car_name registration_year  \\\n",
              "1548        1548  2020 Hyundai Creta SX Opt Diesel AT BSVI            Aug-20   \n",
              "1549        1549        2022 Renault KWID 1.0 RXL Opt BSVI              2022   \n",
              "1550        1550                  2017 Honda WR-V i-VTEC S            Jun-17   \n",
              "1551        1551  2018 Volkswagen Polo 1.0 MPI Comfortline            May-18   \n",
              "1552        1552               2018 Maruti Swift Dzire VXI            May-18   \n",
              "\n",
              "         insurance_validity fuel_type  seats  kms_driven    ownsership  \\\n",
              "1548          Comprehensive    Diesel      5       35000   First Owner   \n",
              "1549  Third Party insurance    Petrol      5       10000        999 cc   \n",
              "1550          Comprehensive    Petrol      5       49000   First Owner   \n",
              "1551          Comprehensive    Petrol      5       40000  Second Owner   \n",
              "1552          Comprehensive    Petrol      5       34756   First Owner   \n",
              "\n",
              "     transmission manufacturing_year  mileage(kmpl)  engine(cc)  \\\n",
              "1548    Automatic               2020        1493.00     11345.0   \n",
              "1549         2022     Power Steering         999.00      6706.0   \n",
              "1550       Manual               2017          17.50      1199.0   \n",
              "1551       Manual               2018          18.78       999.0   \n",
              "1552       Manual               2018          20.85      1197.0   \n",
              "\n",
              "      max_power(bhp)  torque(Nm)  price(in lakhs)  \n",
              "1548         11345.0       250.0            17.41  \n",
              "1549          6706.0        91.0             3.98  \n",
              "1550          1199.0       887.0             5.85  \n",
              "1551           999.0        75.0             4.75  \n",
              "1552          1197.0      8314.0             6.10  "
            ],
            "text/html": [
              "\n",
              "  <div id=\"df-799d6f44-7d58-4827-bb42-108a23ead3bd\" class=\"colab-df-container\">\n",
              "    <div>\n",
              "<style scoped>\n",
              "    .dataframe tbody tr th:only-of-type {\n",
              "        vertical-align: middle;\n",
              "    }\n",
              "\n",
              "    .dataframe tbody tr th {\n",
              "        vertical-align: top;\n",
              "    }\n",
              "\n",
              "    .dataframe thead th {\n",
              "        text-align: right;\n",
              "    }\n",
              "</style>\n",
              "<table border=\"1\" class=\"dataframe\">\n",
              "  <thead>\n",
              "    <tr style=\"text-align: right;\">\n",
              "      <th></th>\n",
              "      <th>Unnamed: 0</th>\n",
              "      <th>car_name</th>\n",
              "      <th>registration_year</th>\n",
              "      <th>insurance_validity</th>\n",
              "      <th>fuel_type</th>\n",
              "      <th>seats</th>\n",
              "      <th>kms_driven</th>\n",
              "      <th>ownsership</th>\n",
              "      <th>transmission</th>\n",
              "      <th>manufacturing_year</th>\n",
              "      <th>mileage(kmpl)</th>\n",
              "      <th>engine(cc)</th>\n",
              "      <th>max_power(bhp)</th>\n",
              "      <th>torque(Nm)</th>\n",
              "      <th>price(in lakhs)</th>\n",
              "    </tr>\n",
              "  </thead>\n",
              "  <tbody>\n",
              "    <tr>\n",
              "      <th>1548</th>\n",
              "      <td>1548</td>\n",
              "      <td>2020 Hyundai Creta SX Opt Diesel AT BSVI</td>\n",
              "      <td>Aug-20</td>\n",
              "      <td>Comprehensive</td>\n",
              "      <td>Diesel</td>\n",
              "      <td>5</td>\n",
              "      <td>35000</td>\n",
              "      <td>First Owner</td>\n",
              "      <td>Automatic</td>\n",
              "      <td>2020</td>\n",
              "      <td>1493.00</td>\n",
              "      <td>11345.0</td>\n",
              "      <td>11345.0</td>\n",
              "      <td>250.0</td>\n",
              "      <td>17.41</td>\n",
              "    </tr>\n",
              "    <tr>\n",
              "      <th>1549</th>\n",
              "      <td>1549</td>\n",
              "      <td>2022 Renault KWID 1.0 RXL Opt BSVI</td>\n",
              "      <td>2022</td>\n",
              "      <td>Third Party insurance</td>\n",
              "      <td>Petrol</td>\n",
              "      <td>5</td>\n",
              "      <td>10000</td>\n",
              "      <td>999 cc</td>\n",
              "      <td>2022</td>\n",
              "      <td>Power Steering</td>\n",
              "      <td>999.00</td>\n",
              "      <td>6706.0</td>\n",
              "      <td>6706.0</td>\n",
              "      <td>91.0</td>\n",
              "      <td>3.98</td>\n",
              "    </tr>\n",
              "    <tr>\n",
              "      <th>1550</th>\n",
              "      <td>1550</td>\n",
              "      <td>2017 Honda WR-V i-VTEC S</td>\n",
              "      <td>Jun-17</td>\n",
              "      <td>Comprehensive</td>\n",
              "      <td>Petrol</td>\n",
              "      <td>5</td>\n",
              "      <td>49000</td>\n",
              "      <td>First Owner</td>\n",
              "      <td>Manual</td>\n",
              "      <td>2017</td>\n",
              "      <td>17.50</td>\n",
              "      <td>1199.0</td>\n",
              "      <td>1199.0</td>\n",
              "      <td>887.0</td>\n",
              "      <td>5.85</td>\n",
              "    </tr>\n",
              "    <tr>\n",
              "      <th>1551</th>\n",
              "      <td>1551</td>\n",
              "      <td>2018 Volkswagen Polo 1.0 MPI Comfortline</td>\n",
              "      <td>May-18</td>\n",
              "      <td>Comprehensive</td>\n",
              "      <td>Petrol</td>\n",
              "      <td>5</td>\n",
              "      <td>40000</td>\n",
              "      <td>Second Owner</td>\n",
              "      <td>Manual</td>\n",
              "      <td>2018</td>\n",
              "      <td>18.78</td>\n",
              "      <td>999.0</td>\n",
              "      <td>999.0</td>\n",
              "      <td>75.0</td>\n",
              "      <td>4.75</td>\n",
              "    </tr>\n",
              "    <tr>\n",
              "      <th>1552</th>\n",
              "      <td>1552</td>\n",
              "      <td>2018 Maruti Swift Dzire VXI</td>\n",
              "      <td>May-18</td>\n",
              "      <td>Comprehensive</td>\n",
              "      <td>Petrol</td>\n",
              "      <td>5</td>\n",
              "      <td>34756</td>\n",
              "      <td>First Owner</td>\n",
              "      <td>Manual</td>\n",
              "      <td>2018</td>\n",
              "      <td>20.85</td>\n",
              "      <td>1197.0</td>\n",
              "      <td>1197.0</td>\n",
              "      <td>8314.0</td>\n",
              "      <td>6.10</td>\n",
              "    </tr>\n",
              "  </tbody>\n",
              "</table>\n",
              "</div>\n",
              "    <div class=\"colab-df-buttons\">\n",
              "\n",
              "  <div class=\"colab-df-container\">\n",
              "    <button class=\"colab-df-convert\" onclick=\"convertToInteractive('df-799d6f44-7d58-4827-bb42-108a23ead3bd')\"\n",
              "            title=\"Convert this dataframe to an interactive table.\"\n",
              "            style=\"display:none;\">\n",
              "\n",
              "  <svg xmlns=\"http://www.w3.org/2000/svg\" height=\"24px\" viewBox=\"0 -960 960 960\">\n",
              "    <path d=\"M120-120v-720h720v720H120Zm60-500h600v-160H180v160Zm220 220h160v-160H400v160Zm0 220h160v-160H400v160ZM180-400h160v-160H180v160Zm440 0h160v-160H620v160ZM180-180h160v-160H180v160Zm440 0h160v-160H620v160Z\"/>\n",
              "  </svg>\n",
              "    </button>\n",
              "\n",
              "  <style>\n",
              "    .colab-df-container {\n",
              "      display:flex;\n",
              "      gap: 12px;\n",
              "    }\n",
              "\n",
              "    .colab-df-convert {\n",
              "      background-color: #E8F0FE;\n",
              "      border: none;\n",
              "      border-radius: 50%;\n",
              "      cursor: pointer;\n",
              "      display: none;\n",
              "      fill: #1967D2;\n",
              "      height: 32px;\n",
              "      padding: 0 0 0 0;\n",
              "      width: 32px;\n",
              "    }\n",
              "\n",
              "    .colab-df-convert:hover {\n",
              "      background-color: #E2EBFA;\n",
              "      box-shadow: 0px 1px 2px rgba(60, 64, 67, 0.3), 0px 1px 3px 1px rgba(60, 64, 67, 0.15);\n",
              "      fill: #174EA6;\n",
              "    }\n",
              "\n",
              "    .colab-df-buttons div {\n",
              "      margin-bottom: 4px;\n",
              "    }\n",
              "\n",
              "    [theme=dark] .colab-df-convert {\n",
              "      background-color: #3B4455;\n",
              "      fill: #D2E3FC;\n",
              "    }\n",
              "\n",
              "    [theme=dark] .colab-df-convert:hover {\n",
              "      background-color: #434B5C;\n",
              "      box-shadow: 0px 1px 3px 1px rgba(0, 0, 0, 0.15);\n",
              "      filter: drop-shadow(0px 1px 2px rgba(0, 0, 0, 0.3));\n",
              "      fill: #FFFFFF;\n",
              "    }\n",
              "  </style>\n",
              "\n",
              "    <script>\n",
              "      const buttonEl =\n",
              "        document.querySelector('#df-799d6f44-7d58-4827-bb42-108a23ead3bd button.colab-df-convert');\n",
              "      buttonEl.style.display =\n",
              "        google.colab.kernel.accessAllowed ? 'block' : 'none';\n",
              "\n",
              "      async function convertToInteractive(key) {\n",
              "        const element = document.querySelector('#df-799d6f44-7d58-4827-bb42-108a23ead3bd');\n",
              "        const dataTable =\n",
              "          await google.colab.kernel.invokeFunction('convertToInteractive',\n",
              "                                                    [key], {});\n",
              "        if (!dataTable) return;\n",
              "\n",
              "        const docLinkHtml = 'Like what you see? Visit the ' +\n",
              "          '<a target=\"_blank\" href=https://colab.research.google.com/notebooks/data_table.ipynb>data table notebook</a>'\n",
              "          + ' to learn more about interactive tables.';\n",
              "        element.innerHTML = '';\n",
              "        dataTable['output_type'] = 'display_data';\n",
              "        await google.colab.output.renderOutput(dataTable, element);\n",
              "        const docLink = document.createElement('div');\n",
              "        docLink.innerHTML = docLinkHtml;\n",
              "        element.appendChild(docLink);\n",
              "      }\n",
              "    </script>\n",
              "  </div>\n",
              "\n",
              "\n",
              "<div id=\"df-a4b8cbeb-b3c2-4f50-9d03-312c25e761e6\">\n",
              "  <button class=\"colab-df-quickchart\" onclick=\"quickchart('df-a4b8cbeb-b3c2-4f50-9d03-312c25e761e6')\"\n",
              "            title=\"Suggest charts\"\n",
              "            style=\"display:none;\">\n",
              "\n",
              "<svg xmlns=\"http://www.w3.org/2000/svg\" height=\"24px\"viewBox=\"0 0 24 24\"\n",
              "     width=\"24px\">\n",
              "    <g>\n",
              "        <path d=\"M19 3H5c-1.1 0-2 .9-2 2v14c0 1.1.9 2 2 2h14c1.1 0 2-.9 2-2V5c0-1.1-.9-2-2-2zM9 17H7v-7h2v7zm4 0h-2V7h2v10zm4 0h-2v-4h2v4z\"/>\n",
              "    </g>\n",
              "</svg>\n",
              "  </button>\n",
              "\n",
              "<style>\n",
              "  .colab-df-quickchart {\n",
              "      --bg-color: #E8F0FE;\n",
              "      --fill-color: #1967D2;\n",
              "      --hover-bg-color: #E2EBFA;\n",
              "      --hover-fill-color: #174EA6;\n",
              "      --disabled-fill-color: #AAA;\n",
              "      --disabled-bg-color: #DDD;\n",
              "  }\n",
              "\n",
              "  [theme=dark] .colab-df-quickchart {\n",
              "      --bg-color: #3B4455;\n",
              "      --fill-color: #D2E3FC;\n",
              "      --hover-bg-color: #434B5C;\n",
              "      --hover-fill-color: #FFFFFF;\n",
              "      --disabled-bg-color: #3B4455;\n",
              "      --disabled-fill-color: #666;\n",
              "  }\n",
              "\n",
              "  .colab-df-quickchart {\n",
              "    background-color: var(--bg-color);\n",
              "    border: none;\n",
              "    border-radius: 50%;\n",
              "    cursor: pointer;\n",
              "    display: none;\n",
              "    fill: var(--fill-color);\n",
              "    height: 32px;\n",
              "    padding: 0;\n",
              "    width: 32px;\n",
              "  }\n",
              "\n",
              "  .colab-df-quickchart:hover {\n",
              "    background-color: var(--hover-bg-color);\n",
              "    box-shadow: 0 1px 2px rgba(60, 64, 67, 0.3), 0 1px 3px 1px rgba(60, 64, 67, 0.15);\n",
              "    fill: var(--button-hover-fill-color);\n",
              "  }\n",
              "\n",
              "  .colab-df-quickchart-complete:disabled,\n",
              "  .colab-df-quickchart-complete:disabled:hover {\n",
              "    background-color: var(--disabled-bg-color);\n",
              "    fill: var(--disabled-fill-color);\n",
              "    box-shadow: none;\n",
              "  }\n",
              "\n",
              "  .colab-df-spinner {\n",
              "    border: 2px solid var(--fill-color);\n",
              "    border-color: transparent;\n",
              "    border-bottom-color: var(--fill-color);\n",
              "    animation:\n",
              "      spin 1s steps(1) infinite;\n",
              "  }\n",
              "\n",
              "  @keyframes spin {\n",
              "    0% {\n",
              "      border-color: transparent;\n",
              "      border-bottom-color: var(--fill-color);\n",
              "      border-left-color: var(--fill-color);\n",
              "    }\n",
              "    20% {\n",
              "      border-color: transparent;\n",
              "      border-left-color: var(--fill-color);\n",
              "      border-top-color: var(--fill-color);\n",
              "    }\n",
              "    30% {\n",
              "      border-color: transparent;\n",
              "      border-left-color: var(--fill-color);\n",
              "      border-top-color: var(--fill-color);\n",
              "      border-right-color: var(--fill-color);\n",
              "    }\n",
              "    40% {\n",
              "      border-color: transparent;\n",
              "      border-right-color: var(--fill-color);\n",
              "      border-top-color: var(--fill-color);\n",
              "    }\n",
              "    60% {\n",
              "      border-color: transparent;\n",
              "      border-right-color: var(--fill-color);\n",
              "    }\n",
              "    80% {\n",
              "      border-color: transparent;\n",
              "      border-right-color: var(--fill-color);\n",
              "      border-bottom-color: var(--fill-color);\n",
              "    }\n",
              "    90% {\n",
              "      border-color: transparent;\n",
              "      border-bottom-color: var(--fill-color);\n",
              "    }\n",
              "  }\n",
              "</style>\n",
              "\n",
              "  <script>\n",
              "    async function quickchart(key) {\n",
              "      const quickchartButtonEl =\n",
              "        document.querySelector('#' + key + ' button');\n",
              "      quickchartButtonEl.disabled = true;  // To prevent multiple clicks.\n",
              "      quickchartButtonEl.classList.add('colab-df-spinner');\n",
              "      try {\n",
              "        const charts = await google.colab.kernel.invokeFunction(\n",
              "            'suggestCharts', [key], {});\n",
              "      } catch (error) {\n",
              "        console.error('Error during call to suggestCharts:', error);\n",
              "      }\n",
              "      quickchartButtonEl.classList.remove('colab-df-spinner');\n",
              "      quickchartButtonEl.classList.add('colab-df-quickchart-complete');\n",
              "    }\n",
              "    (() => {\n",
              "      let quickchartButtonEl =\n",
              "        document.querySelector('#df-a4b8cbeb-b3c2-4f50-9d03-312c25e761e6 button');\n",
              "      quickchartButtonEl.style.display =\n",
              "        google.colab.kernel.accessAllowed ? 'block' : 'none';\n",
              "    })();\n",
              "  </script>\n",
              "</div>\n",
              "\n",
              "    </div>\n",
              "  </div>\n"
            ]
          },
          "metadata": {},
          "execution_count": 328
        }
      ]
    },
    {
      "cell_type": "markdown",
      "source": [
        "**Displaying the information about the dataset(like datatype,rows,columns**"
      ],
      "metadata": {
        "id": "qOy4oaTPTIJw"
      }
    },
    {
      "cell_type": "code",
      "source": [
        "car_data.info()"
      ],
      "metadata": {
        "colab": {
          "base_uri": "https://localhost:8080/"
        },
        "id": "edlq2IOYTK5L",
        "outputId": "9a041406-aa26-4259-c045-6b84aee8daa3"
      },
      "execution_count": null,
      "outputs": [
        {
          "output_type": "stream",
          "name": "stdout",
          "text": [
            "<class 'pandas.core.frame.DataFrame'>\n",
            "RangeIndex: 1553 entries, 0 to 1552\n",
            "Data columns (total 15 columns):\n",
            " #   Column              Non-Null Count  Dtype  \n",
            "---  ------              --------------  -----  \n",
            " 0   Unnamed: 0          1553 non-null   int64  \n",
            " 1   car_name            1553 non-null   object \n",
            " 2   registration_year   1553 non-null   object \n",
            " 3   insurance_validity  1553 non-null   object \n",
            " 4   fuel_type           1553 non-null   object \n",
            " 5   seats               1553 non-null   int64  \n",
            " 6   kms_driven          1553 non-null   int64  \n",
            " 7   ownsership          1553 non-null   object \n",
            " 8   transmission        1553 non-null   object \n",
            " 9   manufacturing_year  1553 non-null   object \n",
            " 10  mileage(kmpl)       1550 non-null   float64\n",
            " 11  engine(cc)          1550 non-null   float64\n",
            " 12  max_power(bhp)      1550 non-null   float64\n",
            " 13  torque(Nm)          1549 non-null   float64\n",
            " 14  price(in lakhs)     1553 non-null   float64\n",
            "dtypes: float64(5), int64(3), object(7)\n",
            "memory usage: 182.1+ KB\n"
          ]
        }
      ]
    },
    {
      "cell_type": "markdown",
      "source": [
        "Check whether is there any null values in the given dataset"
      ],
      "metadata": {
        "id": "ObGE5IRsTY1U"
      }
    },
    {
      "cell_type": "code",
      "source": [
        "car_data.isnull().sum()"
      ],
      "metadata": {
        "colab": {
          "base_uri": "https://localhost:8080/"
        },
        "id": "thd9mKVMTZ3k",
        "outputId": "5fb2118f-9b15-4f36-cd38-67d5327bd8ae"
      },
      "execution_count": null,
      "outputs": [
        {
          "output_type": "execute_result",
          "data": {
            "text/plain": [
              "Unnamed: 0            0\n",
              "car_name              0\n",
              "registration_year     0\n",
              "insurance_validity    0\n",
              "fuel_type             0\n",
              "seats                 0\n",
              "kms_driven            0\n",
              "ownsership            0\n",
              "transmission          0\n",
              "manufacturing_year    0\n",
              "mileage(kmpl)         3\n",
              "engine(cc)            3\n",
              "max_power(bhp)        3\n",
              "torque(Nm)            4\n",
              "price(in lakhs)       0\n",
              "dtype: int64"
            ]
          },
          "metadata": {},
          "execution_count": 330
        }
      ]
    },
    {
      "cell_type": "code",
      "source": [
        "# Remove rows with null values only in specific columns\n",
        "columns_with_nulls = ['mileage(kmpl)', 'engine(cc)', 'max_power(bhp)', 'torque(Nm)']\n",
        "car_data= car_data.dropna(subset=columns_with_nulls)\n",
        "\n",
        "# Reset the index\n",
        "car_data= car_data.reset_index(drop=True)"
      ],
      "metadata": {
        "id": "mZGwBBjnTirq"
      },
      "execution_count": null,
      "outputs": []
    },
    {
      "cell_type": "markdown",
      "source": [
        "Removing the null values in the above columns such as mileage,engine,torque."
      ],
      "metadata": {
        "id": "tRk3Qz1ITlpx"
      }
    },
    {
      "cell_type": "markdown",
      "source": [
        "**After removing the null values**"
      ],
      "metadata": {
        "id": "_tv3ZFQuTnKz"
      }
    },
    {
      "cell_type": "code",
      "source": [
        "car_data.isnull().sum()"
      ],
      "metadata": {
        "colab": {
          "base_uri": "https://localhost:8080/"
        },
        "id": "eSysOsHsTssU",
        "outputId": "9d1a8b51-ac7e-4e6c-a6b8-63562dc453a1"
      },
      "execution_count": null,
      "outputs": [
        {
          "output_type": "execute_result",
          "data": {
            "text/plain": [
              "Unnamed: 0            0\n",
              "car_name              0\n",
              "registration_year     0\n",
              "insurance_validity    0\n",
              "fuel_type             0\n",
              "seats                 0\n",
              "kms_driven            0\n",
              "ownsership            0\n",
              "transmission          0\n",
              "manufacturing_year    0\n",
              "mileage(kmpl)         0\n",
              "engine(cc)            0\n",
              "max_power(bhp)        0\n",
              "torque(Nm)            0\n",
              "price(in lakhs)       0\n",
              "dtype: int64"
            ]
          },
          "metadata": {},
          "execution_count": 332
        }
      ]
    },
    {
      "cell_type": "markdown",
      "source": [
        "Describing the given dataset like mean,standard deviation,minimum values,1st quartile,2nd quartile,3rd quartile and maximum values."
      ],
      "metadata": {
        "id": "i74pJAcUT8UH"
      }
    },
    {
      "cell_type": "code",
      "source": [
        "car_data.describe()"
      ],
      "metadata": {
        "colab": {
          "base_uri": "https://localhost:8080/",
          "height": 300
        },
        "id": "HVn0GQh4T9Dh",
        "outputId": "159f88ba-e9f8-4f0a-e618-7e0248adb446"
      },
      "execution_count": null,
      "outputs": [
        {
          "output_type": "execute_result",
          "data": {
            "text/plain": [
              "        Unnamed: 0        seats     kms_driven  mileage(kmpl)    engine(cc)  \\\n",
              "count  1549.000000   1549.00000    1549.000000    1549.000000  1.549000e+03   \n",
              "mean    776.650097     91.70368   52871.165268     237.067966  1.473422e+10   \n",
              "std     448.847012   2406.52323   40103.619123     586.127342  2.187245e+11   \n",
              "min       0.000000      4.00000     620.000000       7.810000  1.700000e+01   \n",
              "25%     387.000000      5.00000   30000.000000      16.340000  1.197000e+03   \n",
              "50%     778.000000      5.00000   49000.000000      18.900000  1.462000e+03   \n",
              "75%    1165.000000      5.00000   70000.000000      22.000000  1.995000e+03   \n",
              "max    1552.000000  67000.00000  810000.000000    3996.000000  3.260000e+12   \n",
              "\n",
              "       max_power(bhp)    torque(Nm)  price(in lakhs)  \n",
              "count    1.549000e+03  1.549000e+03      1549.000000  \n",
              "mean     1.473422e+10  1.423989e+04       166.519258  \n",
              "std      2.187245e+11  9.666241e+04      3483.338542  \n",
              "min      1.700000e+01  5.000000e+00         1.000000  \n",
              "25%      1.197000e+03  4.000000e+02         4.700000  \n",
              "50%      1.462000e+03  1.173000e+03         7.140000  \n",
              "75%      1.995000e+03  8.850000e+03        17.000000  \n",
              "max      3.260000e+12  1.464800e+06     95000.000000  "
            ],
            "text/html": [
              "\n",
              "  <div id=\"df-67397e1d-e0f0-47e7-ab2a-3599d301a008\" class=\"colab-df-container\">\n",
              "    <div>\n",
              "<style scoped>\n",
              "    .dataframe tbody tr th:only-of-type {\n",
              "        vertical-align: middle;\n",
              "    }\n",
              "\n",
              "    .dataframe tbody tr th {\n",
              "        vertical-align: top;\n",
              "    }\n",
              "\n",
              "    .dataframe thead th {\n",
              "        text-align: right;\n",
              "    }\n",
              "</style>\n",
              "<table border=\"1\" class=\"dataframe\">\n",
              "  <thead>\n",
              "    <tr style=\"text-align: right;\">\n",
              "      <th></th>\n",
              "      <th>Unnamed: 0</th>\n",
              "      <th>seats</th>\n",
              "      <th>kms_driven</th>\n",
              "      <th>mileage(kmpl)</th>\n",
              "      <th>engine(cc)</th>\n",
              "      <th>max_power(bhp)</th>\n",
              "      <th>torque(Nm)</th>\n",
              "      <th>price(in lakhs)</th>\n",
              "    </tr>\n",
              "  </thead>\n",
              "  <tbody>\n",
              "    <tr>\n",
              "      <th>count</th>\n",
              "      <td>1549.000000</td>\n",
              "      <td>1549.00000</td>\n",
              "      <td>1549.000000</td>\n",
              "      <td>1549.000000</td>\n",
              "      <td>1.549000e+03</td>\n",
              "      <td>1.549000e+03</td>\n",
              "      <td>1.549000e+03</td>\n",
              "      <td>1549.000000</td>\n",
              "    </tr>\n",
              "    <tr>\n",
              "      <th>mean</th>\n",
              "      <td>776.650097</td>\n",
              "      <td>91.70368</td>\n",
              "      <td>52871.165268</td>\n",
              "      <td>237.067966</td>\n",
              "      <td>1.473422e+10</td>\n",
              "      <td>1.473422e+10</td>\n",
              "      <td>1.423989e+04</td>\n",
              "      <td>166.519258</td>\n",
              "    </tr>\n",
              "    <tr>\n",
              "      <th>std</th>\n",
              "      <td>448.847012</td>\n",
              "      <td>2406.52323</td>\n",
              "      <td>40103.619123</td>\n",
              "      <td>586.127342</td>\n",
              "      <td>2.187245e+11</td>\n",
              "      <td>2.187245e+11</td>\n",
              "      <td>9.666241e+04</td>\n",
              "      <td>3483.338542</td>\n",
              "    </tr>\n",
              "    <tr>\n",
              "      <th>min</th>\n",
              "      <td>0.000000</td>\n",
              "      <td>4.00000</td>\n",
              "      <td>620.000000</td>\n",
              "      <td>7.810000</td>\n",
              "      <td>1.700000e+01</td>\n",
              "      <td>1.700000e+01</td>\n",
              "      <td>5.000000e+00</td>\n",
              "      <td>1.000000</td>\n",
              "    </tr>\n",
              "    <tr>\n",
              "      <th>25%</th>\n",
              "      <td>387.000000</td>\n",
              "      <td>5.00000</td>\n",
              "      <td>30000.000000</td>\n",
              "      <td>16.340000</td>\n",
              "      <td>1.197000e+03</td>\n",
              "      <td>1.197000e+03</td>\n",
              "      <td>4.000000e+02</td>\n",
              "      <td>4.700000</td>\n",
              "    </tr>\n",
              "    <tr>\n",
              "      <th>50%</th>\n",
              "      <td>778.000000</td>\n",
              "      <td>5.00000</td>\n",
              "      <td>49000.000000</td>\n",
              "      <td>18.900000</td>\n",
              "      <td>1.462000e+03</td>\n",
              "      <td>1.462000e+03</td>\n",
              "      <td>1.173000e+03</td>\n",
              "      <td>7.140000</td>\n",
              "    </tr>\n",
              "    <tr>\n",
              "      <th>75%</th>\n",
              "      <td>1165.000000</td>\n",
              "      <td>5.00000</td>\n",
              "      <td>70000.000000</td>\n",
              "      <td>22.000000</td>\n",
              "      <td>1.995000e+03</td>\n",
              "      <td>1.995000e+03</td>\n",
              "      <td>8.850000e+03</td>\n",
              "      <td>17.000000</td>\n",
              "    </tr>\n",
              "    <tr>\n",
              "      <th>max</th>\n",
              "      <td>1552.000000</td>\n",
              "      <td>67000.00000</td>\n",
              "      <td>810000.000000</td>\n",
              "      <td>3996.000000</td>\n",
              "      <td>3.260000e+12</td>\n",
              "      <td>3.260000e+12</td>\n",
              "      <td>1.464800e+06</td>\n",
              "      <td>95000.000000</td>\n",
              "    </tr>\n",
              "  </tbody>\n",
              "</table>\n",
              "</div>\n",
              "    <div class=\"colab-df-buttons\">\n",
              "\n",
              "  <div class=\"colab-df-container\">\n",
              "    <button class=\"colab-df-convert\" onclick=\"convertToInteractive('df-67397e1d-e0f0-47e7-ab2a-3599d301a008')\"\n",
              "            title=\"Convert this dataframe to an interactive table.\"\n",
              "            style=\"display:none;\">\n",
              "\n",
              "  <svg xmlns=\"http://www.w3.org/2000/svg\" height=\"24px\" viewBox=\"0 -960 960 960\">\n",
              "    <path d=\"M120-120v-720h720v720H120Zm60-500h600v-160H180v160Zm220 220h160v-160H400v160Zm0 220h160v-160H400v160ZM180-400h160v-160H180v160Zm440 0h160v-160H620v160ZM180-180h160v-160H180v160Zm440 0h160v-160H620v160Z\"/>\n",
              "  </svg>\n",
              "    </button>\n",
              "\n",
              "  <style>\n",
              "    .colab-df-container {\n",
              "      display:flex;\n",
              "      gap: 12px;\n",
              "    }\n",
              "\n",
              "    .colab-df-convert {\n",
              "      background-color: #E8F0FE;\n",
              "      border: none;\n",
              "      border-radius: 50%;\n",
              "      cursor: pointer;\n",
              "      display: none;\n",
              "      fill: #1967D2;\n",
              "      height: 32px;\n",
              "      padding: 0 0 0 0;\n",
              "      width: 32px;\n",
              "    }\n",
              "\n",
              "    .colab-df-convert:hover {\n",
              "      background-color: #E2EBFA;\n",
              "      box-shadow: 0px 1px 2px rgba(60, 64, 67, 0.3), 0px 1px 3px 1px rgba(60, 64, 67, 0.15);\n",
              "      fill: #174EA6;\n",
              "    }\n",
              "\n",
              "    .colab-df-buttons div {\n",
              "      margin-bottom: 4px;\n",
              "    }\n",
              "\n",
              "    [theme=dark] .colab-df-convert {\n",
              "      background-color: #3B4455;\n",
              "      fill: #D2E3FC;\n",
              "    }\n",
              "\n",
              "    [theme=dark] .colab-df-convert:hover {\n",
              "      background-color: #434B5C;\n",
              "      box-shadow: 0px 1px 3px 1px rgba(0, 0, 0, 0.15);\n",
              "      filter: drop-shadow(0px 1px 2px rgba(0, 0, 0, 0.3));\n",
              "      fill: #FFFFFF;\n",
              "    }\n",
              "  </style>\n",
              "\n",
              "    <script>\n",
              "      const buttonEl =\n",
              "        document.querySelector('#df-67397e1d-e0f0-47e7-ab2a-3599d301a008 button.colab-df-convert');\n",
              "      buttonEl.style.display =\n",
              "        google.colab.kernel.accessAllowed ? 'block' : 'none';\n",
              "\n",
              "      async function convertToInteractive(key) {\n",
              "        const element = document.querySelector('#df-67397e1d-e0f0-47e7-ab2a-3599d301a008');\n",
              "        const dataTable =\n",
              "          await google.colab.kernel.invokeFunction('convertToInteractive',\n",
              "                                                    [key], {});\n",
              "        if (!dataTable) return;\n",
              "\n",
              "        const docLinkHtml = 'Like what you see? Visit the ' +\n",
              "          '<a target=\"_blank\" href=https://colab.research.google.com/notebooks/data_table.ipynb>data table notebook</a>'\n",
              "          + ' to learn more about interactive tables.';\n",
              "        element.innerHTML = '';\n",
              "        dataTable['output_type'] = 'display_data';\n",
              "        await google.colab.output.renderOutput(dataTable, element);\n",
              "        const docLink = document.createElement('div');\n",
              "        docLink.innerHTML = docLinkHtml;\n",
              "        element.appendChild(docLink);\n",
              "      }\n",
              "    </script>\n",
              "  </div>\n",
              "\n",
              "\n",
              "<div id=\"df-22a4b724-32f2-4f43-aaf7-3446c6e87377\">\n",
              "  <button class=\"colab-df-quickchart\" onclick=\"quickchart('df-22a4b724-32f2-4f43-aaf7-3446c6e87377')\"\n",
              "            title=\"Suggest charts\"\n",
              "            style=\"display:none;\">\n",
              "\n",
              "<svg xmlns=\"http://www.w3.org/2000/svg\" height=\"24px\"viewBox=\"0 0 24 24\"\n",
              "     width=\"24px\">\n",
              "    <g>\n",
              "        <path d=\"M19 3H5c-1.1 0-2 .9-2 2v14c0 1.1.9 2 2 2h14c1.1 0 2-.9 2-2V5c0-1.1-.9-2-2-2zM9 17H7v-7h2v7zm4 0h-2V7h2v10zm4 0h-2v-4h2v4z\"/>\n",
              "    </g>\n",
              "</svg>\n",
              "  </button>\n",
              "\n",
              "<style>\n",
              "  .colab-df-quickchart {\n",
              "      --bg-color: #E8F0FE;\n",
              "      --fill-color: #1967D2;\n",
              "      --hover-bg-color: #E2EBFA;\n",
              "      --hover-fill-color: #174EA6;\n",
              "      --disabled-fill-color: #AAA;\n",
              "      --disabled-bg-color: #DDD;\n",
              "  }\n",
              "\n",
              "  [theme=dark] .colab-df-quickchart {\n",
              "      --bg-color: #3B4455;\n",
              "      --fill-color: #D2E3FC;\n",
              "      --hover-bg-color: #434B5C;\n",
              "      --hover-fill-color: #FFFFFF;\n",
              "      --disabled-bg-color: #3B4455;\n",
              "      --disabled-fill-color: #666;\n",
              "  }\n",
              "\n",
              "  .colab-df-quickchart {\n",
              "    background-color: var(--bg-color);\n",
              "    border: none;\n",
              "    border-radius: 50%;\n",
              "    cursor: pointer;\n",
              "    display: none;\n",
              "    fill: var(--fill-color);\n",
              "    height: 32px;\n",
              "    padding: 0;\n",
              "    width: 32px;\n",
              "  }\n",
              "\n",
              "  .colab-df-quickchart:hover {\n",
              "    background-color: var(--hover-bg-color);\n",
              "    box-shadow: 0 1px 2px rgba(60, 64, 67, 0.3), 0 1px 3px 1px rgba(60, 64, 67, 0.15);\n",
              "    fill: var(--button-hover-fill-color);\n",
              "  }\n",
              "\n",
              "  .colab-df-quickchart-complete:disabled,\n",
              "  .colab-df-quickchart-complete:disabled:hover {\n",
              "    background-color: var(--disabled-bg-color);\n",
              "    fill: var(--disabled-fill-color);\n",
              "    box-shadow: none;\n",
              "  }\n",
              "\n",
              "  .colab-df-spinner {\n",
              "    border: 2px solid var(--fill-color);\n",
              "    border-color: transparent;\n",
              "    border-bottom-color: var(--fill-color);\n",
              "    animation:\n",
              "      spin 1s steps(1) infinite;\n",
              "  }\n",
              "\n",
              "  @keyframes spin {\n",
              "    0% {\n",
              "      border-color: transparent;\n",
              "      border-bottom-color: var(--fill-color);\n",
              "      border-left-color: var(--fill-color);\n",
              "    }\n",
              "    20% {\n",
              "      border-color: transparent;\n",
              "      border-left-color: var(--fill-color);\n",
              "      border-top-color: var(--fill-color);\n",
              "    }\n",
              "    30% {\n",
              "      border-color: transparent;\n",
              "      border-left-color: var(--fill-color);\n",
              "      border-top-color: var(--fill-color);\n",
              "      border-right-color: var(--fill-color);\n",
              "    }\n",
              "    40% {\n",
              "      border-color: transparent;\n",
              "      border-right-color: var(--fill-color);\n",
              "      border-top-color: var(--fill-color);\n",
              "    }\n",
              "    60% {\n",
              "      border-color: transparent;\n",
              "      border-right-color: var(--fill-color);\n",
              "    }\n",
              "    80% {\n",
              "      border-color: transparent;\n",
              "      border-right-color: var(--fill-color);\n",
              "      border-bottom-color: var(--fill-color);\n",
              "    }\n",
              "    90% {\n",
              "      border-color: transparent;\n",
              "      border-bottom-color: var(--fill-color);\n",
              "    }\n",
              "  }\n",
              "</style>\n",
              "\n",
              "  <script>\n",
              "    async function quickchart(key) {\n",
              "      const quickchartButtonEl =\n",
              "        document.querySelector('#' + key + ' button');\n",
              "      quickchartButtonEl.disabled = true;  // To prevent multiple clicks.\n",
              "      quickchartButtonEl.classList.add('colab-df-spinner');\n",
              "      try {\n",
              "        const charts = await google.colab.kernel.invokeFunction(\n",
              "            'suggestCharts', [key], {});\n",
              "      } catch (error) {\n",
              "        console.error('Error during call to suggestCharts:', error);\n",
              "      }\n",
              "      quickchartButtonEl.classList.remove('colab-df-spinner');\n",
              "      quickchartButtonEl.classList.add('colab-df-quickchart-complete');\n",
              "    }\n",
              "    (() => {\n",
              "      let quickchartButtonEl =\n",
              "        document.querySelector('#df-22a4b724-32f2-4f43-aaf7-3446c6e87377 button');\n",
              "      quickchartButtonEl.style.display =\n",
              "        google.colab.kernel.accessAllowed ? 'block' : 'none';\n",
              "    })();\n",
              "  </script>\n",
              "</div>\n",
              "\n",
              "    </div>\n",
              "  </div>\n"
            ]
          },
          "metadata": {},
          "execution_count": 333
        }
      ]
    },
    {
      "cell_type": "markdown",
      "source": [
        "To check what are the columns in the given dataset"
      ],
      "metadata": {
        "id": "Pf57JyKjUHWm"
      }
    },
    {
      "cell_type": "code",
      "source": [
        "car_data.columns"
      ],
      "metadata": {
        "colab": {
          "base_uri": "https://localhost:8080/"
        },
        "id": "wAauB-FcUIzB",
        "outputId": "03c1d85d-474f-4467-c1fb-71f08bb653ae"
      },
      "execution_count": null,
      "outputs": [
        {
          "output_type": "execute_result",
          "data": {
            "text/plain": [
              "Index(['Unnamed: 0', 'car_name', 'registration_year', 'insurance_validity',\n",
              "       'fuel_type', 'seats', 'kms_driven', 'ownsership', 'transmission',\n",
              "       'manufacturing_year', 'mileage(kmpl)', 'engine(cc)', 'max_power(bhp)',\n",
              "       'torque(Nm)', 'price(in lakhs)'],\n",
              "      dtype='object')"
            ]
          },
          "metadata": {},
          "execution_count": 334
        }
      ]
    },
    {
      "cell_type": "code",
      "source": [
        "print(car_data['fuel_type'].value_counts())"
      ],
      "metadata": {
        "colab": {
          "base_uri": "https://localhost:8080/"
        },
        "id": "G4y49agZUN6X",
        "outputId": "37056436-6147-43e3-bf8b-4bf97f922acf"
      },
      "execution_count": null,
      "outputs": [
        {
          "output_type": "stream",
          "name": "stdout",
          "text": [
            "Petrol     1009\n",
            "Diesel      516\n",
            "CNG          22\n",
            "5 Seats       2\n",
            "Name: fuel_type, dtype: int64\n"
          ]
        }
      ]
    },
    {
      "cell_type": "markdown",
      "source": [
        "To know the types of fuel in given dataset."
      ],
      "metadata": {
        "id": "bqntOz_VUULd"
      }
    },
    {
      "cell_type": "code",
      "source": [
        "import seaborn as sns\n",
        "sns.countplot(car_data, x=\"fuel_type\")"
      ],
      "metadata": {
        "colab": {
          "base_uri": "https://localhost:8080/",
          "height": 471
        },
        "id": "2Z4EzvoRUVQj",
        "outputId": "e5a54b2e-2f05-4698-e029-6ff2293cfb90"
      },
      "execution_count": null,
      "outputs": [
        {
          "output_type": "execute_result",
          "data": {
            "text/plain": [
              "<Axes: xlabel='fuel_type', ylabel='count'>"
            ]
          },
          "metadata": {},
          "execution_count": 336
        },
        {
          "output_type": "display_data",
          "data": {
            "text/plain": [
              "<Figure size 640x480 with 1 Axes>"
            ],
            "image/png": "[encoded data removed]"
          },
          "metadata": {}
        }
      ]
    },
    {
      "cell_type": "markdown",
      "source": [
        "From the above graph,we can clearly say that petrol type is more compared to other types."
      ],
      "metadata": {
        "id": "y56_apyqUciJ"
      }
    },
    {
      "cell_type": "code",
      "source": [
        "# Pie chart using matplotlib\n",
        "import matplotlib.pyplot as plt\n",
        "dependents = car_data['fuel_type'].value_counts()\n",
        "plt.pie(dependents.values, labels=dependents.index, autopct='%1.1f%%')\n",
        "plt.title(\"fuel_type\")"
      ],
      "metadata": {
        "colab": {
          "base_uri": "https://localhost:8080/",
          "height": 446
        },
        "id": "tr51w16xUd1L",
        "outputId": "36442a14-1259-4fc3-edef-3bc0af6be559"
      },
      "execution_count": null,
      "outputs": [
        {
          "output_type": "execute_result",
          "data": {
            "text/plain": [
              "Text(0.5, 1.0, 'fuel_type')"
            ]
          },
          "metadata": {},
          "execution_count": 337
        },
        {
          "output_type": "display_data",
          "data": {
            "text/plain": [
              "<Figure size 640x480 with 1 Axes>"
            ],
            "image/png": "[encoded data removed]"
          },
          "metadata": {}
        }
      ]
    },
    {
      "cell_type": "markdown",
      "source": [
        "Different types of fuel and from that we can clearly say that CNG is very less compared to other fuel_types."
      ],
      "metadata": {
        "id": "xgorLM4cUjDC"
      }
    },
    {
      "cell_type": "code",
      "source": [
        "sns.countplot(x='transmission', data=car_data)\n",
        "plt.title('Transmission types')\n",
        "plt.show()"
      ],
      "metadata": {
        "colab": {
          "base_uri": "https://localhost:8080/",
          "height": 477
        },
        "id": "kKkSWq3iUjxM",
        "outputId": "534eea6f-6127-4b58-fb99-6ba4d4c8e675"
      },
      "execution_count": null,
      "outputs": [
        {
          "output_type": "display_data",
          "data": {
            "text/plain": [
              "<Figure size 640x480 with 1 Axes>"
            ],
            "image/png": "[encoded data removed]"
          },
          "metadata": {}
        }
      ]
    },
    {
      "cell_type": "markdown",
      "source": [
        "**From above we can clearly say that Automatic cars are more among all the other cars.**"
      ],
      "metadata": {
        "id": "LNY8FAPLUnav"
      }
    },
    {
      "cell_type": "code",
      "source": [
        "fig = plt.figure(figsize=(15,5))\n",
        "car_data['manufacturing_year'].hist()"
      ],
      "metadata": {
        "colab": {
          "base_uri": "https://localhost:8080/",
          "height": 408
        },
        "id": "JA4PLF74UrAM",
        "outputId": "a30b2e71-3ae8-4156-8cf9-3cce688f97bc"
      },
      "execution_count": null,
      "outputs": [
        {
          "output_type": "execute_result",
          "data": {
            "text/plain": [
              "<Axes: >"
            ]
          },
          "metadata": {},
          "execution_count": 339
        },
        {
          "output_type": "display_data",
          "data": {
            "text/plain": [
              "<Figure size 1500x500 with 1 Axes>"
            ],
            "image/png": "[encoded data removed]"
          },
          "metadata": {}
        }
      ]
    },
    {
      "cell_type": "markdown",
      "source": [
        "**From the above we can clearly say that, 2019 is the highest manufacturing year.**"
      ],
      "metadata": {
        "id": "GBjLuZ2sUuSO"
      }
    },
    {
      "cell_type": "code",
      "source": [
        "fuel_type = car_data['fuel_type']\n",
        "ownsership = car_data['ownsership']\n",
        "transmission_type = car_data['transmission']\n",
        "price = car_data['price(in lakhs)']\n",
        "from matplotlib import style\n",
        "\n",
        "style.use('ggplot')\n",
        "fig = plt.figure(figsize=(15,5))\n",
        "fig.suptitle('Visualizing categorical data columns')\n",
        "plt.subplot(1,3,1)\n",
        "plt.bar(fuel_type,price, color='royalblue')\n",
        "plt.xlabel(\"fuel Type\")\n",
        "plt.ylabel(\"owsership\")\n",
        "plt.subplot(1,3,2)\n",
        "plt.bar(ownsership,price, color='red')\n",
        "plt.xlabel(\"ownsership\")\n",
        "plt.subplot(1,3,3)\n",
        "plt.bar(transmission_type, price, color='purple')\n",
        "plt.xlabel('transmission_type')\n",
        "plt.show()"
      ],
      "metadata": {
        "colab": {
          "base_uri": "https://localhost:8080/",
          "height": 441
        },
        "id": "9dIQ1kAeUyL5",
        "outputId": "315453d9-d129-4650-fe13-af505b255b3f"
      },
      "execution_count": null,
      "outputs": [
        {
          "output_type": "display_data",
          "data": {
            "text/plain": [
              "<Figure size 1500x500 with 3 Axes>"
            ],
            "image/png": "[encoded data removed]"
          },
          "metadata": {}
        }
      ]
    },
    {
      "cell_type": "markdown",
      "source": [
        "**MANUAL ENCODING:**"
      ],
      "metadata": {
        "id": "QP1gYRrGVf3d"
      }
    },
    {
      "cell_type": "code",
      "source": [
        "import pandas as pd\n",
        "# Manual encoding of fuel types\n",
        "fuel_type_encoding = {'Petrol': 1, 'Diesel': 2, 'CNG': 3,'5 Seats':4}\n",
        "car_data['fuel_type'] = car_data['fuel_type'].replace(fuel_type_encoding)\n",
        "\n",
        "manufacturing_year_encoding = {'Power Steering':0}\n",
        "car_data['manufacturing_year']=car_data['manufacturing_year'].replace(manufacturing_year_encoding)\n",
        "# Display the updated DataFrame\n",
        "print(car_data)"
      ],
      "metadata": {
        "colab": {
          "base_uri": "https://localhost:8080/"
        },
        "id": "1TjCJE8dVPLV",
        "outputId": "4bcf8974-4b5b-4ead-be43-0b8f4be94965"
      },
      "execution_count": null,
      "outputs": [
        {
          "output_type": "stream",
          "name": "stdout",
          "text": [
            "      Unnamed: 0                                           car_name  \\\n",
            "0              0                    2017 Mercedes-Benz S-Class S400   \n",
            "1              1  2020 Nissan Magnite Turbo CVT XV Premium Opt BSVI   \n",
            "2              2                       2018 BMW X1 sDrive 20d xLine   \n",
            "3              3                           2019 Kia Seltos GTX Plus   \n",
            "4              4                    2019 Skoda Superb LK 1.8 TSI AT   \n",
            "...          ...                                                ...   \n",
            "1544        1548           2020 Hyundai Creta SX Opt Diesel AT BSVI   \n",
            "1545        1549                 2022 Renault KWID 1.0 RXL Opt BSVI   \n",
            "1546        1550                           2017 Honda WR-V i-VTEC S   \n",
            "1547        1551           2018 Volkswagen Polo 1.0 MPI Comfortline   \n",
            "1548        1552                        2018 Maruti Swift Dzire VXI   \n",
            "\n",
            "     registration_year     insurance_validity  fuel_type  seats  kms_driven  \\\n",
            "0               Jul-17          Comprehensive          1      5       56000   \n",
            "1               Jan-21          Comprehensive          1      5       30615   \n",
            "2               Sep-18          Comprehensive          2      5       24000   \n",
            "3               Dec-19          Comprehensive          1      5       18378   \n",
            "4               Aug-19          Comprehensive          1      5       44900   \n",
            "...                ...                    ...        ...    ...         ...   \n",
            "1544            Aug-20          Comprehensive          2      5       35000   \n",
            "1545              2022  Third Party insurance          1      5       10000   \n",
            "1546            Jun-17          Comprehensive          1      5       49000   \n",
            "1547            May-18          Comprehensive          1      5       40000   \n",
            "1548            May-18          Comprehensive          1      5       34756   \n",
            "\n",
            "        ownsership transmission manufacturing_year  mileage(kmpl)  engine(cc)  \\\n",
            "0      First Owner    Automatic               2017           7.81      2996.0   \n",
            "1      First Owner    Automatic               2020          17.40       999.0   \n",
            "2      First Owner    Automatic               2018          20.68      1995.0   \n",
            "3      First Owner       Manual               2019          16.50      1353.0   \n",
            "4      First Owner    Automatic               2019          14.67      1798.0   \n",
            "...            ...          ...                ...            ...         ...   \n",
            "1544   First Owner    Automatic               2020        1493.00     11345.0   \n",
            "1545        999 cc         2022                  0         999.00      6706.0   \n",
            "1546   First Owner       Manual               2017          17.50      1199.0   \n",
            "1547  Second Owner       Manual               2018          18.78       999.0   \n",
            "1548   First Owner       Manual               2018          20.85      1197.0   \n",
            "\n",
            "      max_power(bhp)  torque(Nm)  price(in lakhs)  \n",
            "0             2996.0       333.0            63.75  \n",
            "1              999.0      9863.0             8.99  \n",
            "2             1995.0       188.0            23.75  \n",
            "3             1353.0     13808.0            13.56  \n",
            "4             1798.0     17746.0            24.00  \n",
            "...              ...         ...              ...  \n",
            "1544         11345.0       250.0            17.41  \n",
            "1545          6706.0        91.0             3.98  \n",
            "1546          1199.0       887.0             5.85  \n",
            "1547           999.0        75.0             4.75  \n",
            "1548          1197.0      8314.0             6.10  \n",
            "\n",
            "[1549 rows x 15 columns]\n"
          ]
        }
      ]
    },
    {
      "cell_type": "code",
      "source": [
        "car_data.head()"
      ],
      "metadata": {
        "colab": {
          "base_uri": "https://localhost:8080/",
          "height": 573
        },
        "id": "v3CzSbH2WxlV",
        "outputId": "98cbb516-0f95-4627-cea6-4d02facb2298"
      },
      "execution_count": null,
      "outputs": [
        {
          "output_type": "execute_result",
          "data": {
            "text/plain": [
              "   Unnamed: 0                                           car_name  \\\n",
              "0           0                    2017 Mercedes-Benz S-Class S400   \n",
              "1           1  2020 Nissan Magnite Turbo CVT XV Premium Opt BSVI   \n",
              "2           2                       2018 BMW X1 sDrive 20d xLine   \n",
              "3           3                           2019 Kia Seltos GTX Plus   \n",
              "4           4                    2019 Skoda Superb LK 1.8 TSI AT   \n",
              "\n",
              "  registration_year insurance_validity  fuel_type  seats  kms_driven  \\\n",
              "0            Jul-17      Comprehensive          1      5       56000   \n",
              "1            Jan-21      Comprehensive          1      5       30615   \n",
              "2            Sep-18      Comprehensive          2      5       24000   \n",
              "3            Dec-19      Comprehensive          1      5       18378   \n",
              "4            Aug-19      Comprehensive          1      5       44900   \n",
              "\n",
              "    ownsership transmission manufacturing_year  mileage(kmpl)  engine(cc)  \\\n",
              "0  First Owner    Automatic               2017           7.81      2996.0   \n",
              "1  First Owner    Automatic               2020          17.40       999.0   \n",
              "2  First Owner    Automatic               2018          20.68      1995.0   \n",
              "3  First Owner       Manual               2019          16.50      1353.0   \n",
              "4  First Owner    Automatic               2019          14.67      1798.0   \n",
              "\n",
              "   max_power(bhp)  torque(Nm)  price(in lakhs)  \n",
              "0          2996.0       333.0            63.75  \n",
              "1           999.0      9863.0             8.99  \n",
              "2          1995.0       188.0            23.75  \n",
              "3          1353.0     13808.0            13.56  \n",
              "4          1798.0     17746.0            24.00  "
            ],
            "text/html": [
              "\n",
              "  <div id=\"df-fa30f2ce-2ce5-45e3-934b-98dcb2a9ac44\" class=\"colab-df-container\">\n",
              "    <div>\n",
              "<style scoped>\n",
              "    .dataframe tbody tr th:only-of-type {\n",
              "        vertical-align: middle;\n",
              "    }\n",
              "\n",
              "    .dataframe tbody tr th {\n",
              "        vertical-align: top;\n",
              "    }\n",
              "\n",
              "    .dataframe thead th {\n",
              "        text-align: right;\n",
              "    }\n",
              "</style>\n",
              "<table border=\"1\" class=\"dataframe\">\n",
              "  <thead>\n",
              "    <tr style=\"text-align: right;\">\n",
              "      <th></th>\n",
              "      <th>Unnamed: 0</th>\n",
              "      <th>car_name</th>\n",
              "      <th>registration_year</th>\n",
              "      <th>insurance_validity</th>\n",
              "      <th>fuel_type</th>\n",
              "      <th>seats</th>\n",
              "      <th>kms_driven</th>\n",
              "      <th>ownsership</th>\n",
              "      <th>transmission</th>\n",
              "      <th>manufacturing_year</th>\n",
              "      <th>mileage(kmpl)</th>\n",
              "      <th>engine(cc)</th>\n",
              "      <th>max_power(bhp)</th>\n",
              "      <th>torque(Nm)</th>\n",
              "      <th>price(in lakhs)</th>\n",
              "    </tr>\n",
              "  </thead>\n",
              "  <tbody>\n",
              "    <tr>\n",
              "      <th>0</th>\n",
              "      <td>0</td>\n",
              "      <td>2017 Mercedes-Benz S-Class S400</td>\n",
              "      <td>Jul-17</td>\n",
              "      <td>Comprehensive</td>\n",
              "      <td>1</td>\n",
              "      <td>5</td>\n",
              "      <td>56000</td>\n",
              "      <td>First Owner</td>\n",
              "      <td>Automatic</td>\n",
              "      <td>2017</td>\n",
              "      <td>7.81</td>\n",
              "      <td>2996.0</td>\n",
              "      <td>2996.0</td>\n",
              "      <td>333.0</td>\n",
              "      <td>63.75</td>\n",
              "    </tr>\n",
              "    <tr>\n",
              "      <th>1</th>\n",
              "      <td>1</td>\n",
              "      <td>2020 Nissan Magnite Turbo CVT XV Premium Opt BSVI</td>\n",
              "      <td>Jan-21</td>\n",
              "      <td>Comprehensive</td>\n",
              "      <td>1</td>\n",
              "      <td>5</td>\n",
              "      <td>30615</td>\n",
              "      <td>First Owner</td>\n",
              "      <td>Automatic</td>\n",
              "      <td>2020</td>\n",
              "      <td>17.40</td>\n",
              "      <td>999.0</td>\n",
              "      <td>999.0</td>\n",
              "      <td>9863.0</td>\n",
              "      <td>8.99</td>\n",
              "    </tr>\n",
              "    <tr>\n",
              "      <th>2</th>\n",
              "      <td>2</td>\n",
              "      <td>2018 BMW X1 sDrive 20d xLine</td>\n",
              "      <td>Sep-18</td>\n",
              "      <td>Comprehensive</td>\n",
              "      <td>2</td>\n",
              "      <td>5</td>\n",
              "      <td>24000</td>\n",
              "      <td>First Owner</td>\n",
              "      <td>Automatic</td>\n",
              "      <td>2018</td>\n",
              "      <td>20.68</td>\n",
              "      <td>1995.0</td>\n",
              "      <td>1995.0</td>\n",
              "      <td>188.0</td>\n",
              "      <td>23.75</td>\n",
              "    </tr>\n",
              "    <tr>\n",
              "      <th>3</th>\n",
              "      <td>3</td>\n",
              "      <td>2019 Kia Seltos GTX Plus</td>\n",
              "      <td>Dec-19</td>\n",
              "      <td>Comprehensive</td>\n",
              "      <td>1</td>\n",
              "      <td>5</td>\n",
              "      <td>18378</td>\n",
              "      <td>First Owner</td>\n",
              "      <td>Manual</td>\n",
              "      <td>2019</td>\n",
              "      <td>16.50</td>\n",
              "      <td>1353.0</td>\n",
              "      <td>1353.0</td>\n",
              "      <td>13808.0</td>\n",
              "      <td>13.56</td>\n",
              "    </tr>\n",
              "    <tr>\n",
              "      <th>4</th>\n",
              "      <td>4</td>\n",
              "      <td>2019 Skoda Superb LK 1.8 TSI AT</td>\n",
              "      <td>Aug-19</td>\n",
              "      <td>Comprehensive</td>\n",
              "      <td>1</td>\n",
              "      <td>5</td>\n",
              "      <td>44900</td>\n",
              "      <td>First Owner</td>\n",
              "      <td>Automatic</td>\n",
              "      <td>2019</td>\n",
              "      <td>14.67</td>\n",
              "      <td>1798.0</td>\n",
              "      <td>1798.0</td>\n",
              "      <td>17746.0</td>\n",
              "      <td>24.00</td>\n",
              "    </tr>\n",
              "  </tbody>\n",
              "</table>\n",
              "</div>\n",
              "    <div class=\"colab-df-buttons\">\n",
              "\n",
              "  <div class=\"colab-df-container\">\n",
              "    <button class=\"colab-df-convert\" onclick=\"convertToInteractive('df-fa30f2ce-2ce5-45e3-934b-98dcb2a9ac44')\"\n",
              "            title=\"Convert this dataframe to an interactive table.\"\n",
              "            style=\"display:none;\">\n",
              "\n",
              "  <svg xmlns=\"http://www.w3.org/2000/svg\" height=\"24px\" viewBox=\"0 -960 960 960\">\n",
              "    <path d=\"M120-120v-720h720v720H120Zm60-500h600v-160H180v160Zm220 220h160v-160H400v160Zm0 220h160v-160H400v160ZM180-400h160v-160H180v160Zm440 0h160v-160H620v160ZM180-180h160v-160H180v160Zm440 0h160v-160H620v160Z\"/>\n",
              "  </svg>\n",
              "    </button>\n",
              "\n",
              "  <style>\n",
              "    .colab-df-container {\n",
              "      display:flex;\n",
              "      gap: 12px;\n",
              "    }\n",
              "\n",
              "    .colab-df-convert {\n",
              "      background-color: #E8F0FE;\n",
              "      border: none;\n",
              "      border-radius: 50%;\n",
              "      cursor: pointer;\n",
              "      display: none;\n",
              "      fill: #1967D2;\n",
              "      height: 32px;\n",
              "      padding: 0 0 0 0;\n",
              "      width: 32px;\n",
              "    }\n",
              "\n",
              "    .colab-df-convert:hover {\n",
              "      background-color: #E2EBFA;\n",
              "      box-shadow: 0px 1px 2px rgba(60, 64, 67, 0.3), 0px 1px 3px 1px rgba(60, 64, 67, 0.15);\n",
              "      fill: #174EA6;\n",
              "    }\n",
              "\n",
              "    .colab-df-buttons div {\n",
              "      margin-bottom: 4px;\n",
              "    }\n",
              "\n",
              "    [theme=dark] .colab-df-convert {\n",
              "      background-color: #3B4455;\n",
              "      fill: #D2E3FC;\n",
              "    }\n",
              "\n",
              "    [theme=dark] .colab-df-convert:hover {\n",
              "      background-color: #434B5C;\n",
              "      box-shadow: 0px 1px 3px 1px rgba(0, 0, 0, 0.15);\n",
              "      filter: drop-shadow(0px 1px 2px rgba(0, 0, 0, 0.3));\n",
              "      fill: #FFFFFF;\n",
              "    }\n",
              "  </style>\n",
              "\n",
              "    <script>\n",
              "      const buttonEl =\n",
              "        document.querySelector('#df-fa30f2ce-2ce5-45e3-934b-98dcb2a9ac44 button.colab-df-convert');\n",
              "      buttonEl.style.display =\n",
              "        google.colab.kernel.accessAllowed ? 'block' : 'none';\n",
              "\n",
              "      async function convertToInteractive(key) {\n",
              "        const element = document.querySelector('#df-fa30f2ce-2ce5-45e3-934b-98dcb2a9ac44');\n",
              "        const dataTable =\n",
              "          await google.colab.kernel.invokeFunction('convertToInteractive',\n",
              "                                                    [key], {});\n",
              "        if (!dataTable) return;\n",
              "\n",
              "        const docLinkHtml = 'Like what you see? Visit the ' +\n",
              "          '<a target=\"_blank\" href=https://colab.research.google.com/notebooks/data_table.ipynb>data table notebook</a>'\n",
              "          + ' to learn more about interactive tables.';\n",
              "        element.innerHTML = '';\n",
              "        dataTable['output_type'] = 'display_data';\n",
              "        await google.colab.output.renderOutput(dataTable, element);\n",
              "        const docLink = document.createElement('div');\n",
              "        docLink.innerHTML = docLinkHtml;\n",
              "        element.appendChild(docLink);\n",
              "      }\n",
              "    </script>\n",
              "  </div>\n",
              "\n",
              "\n",
              "<div id=\"df-351e857d-5340-4bfc-9645-95c405225e6c\">\n",
              "  <button class=\"colab-df-quickchart\" onclick=\"quickchart('df-351e857d-5340-4bfc-9645-95c405225e6c')\"\n",
              "            title=\"Suggest charts\"\n",
              "            style=\"display:none;\">\n",
              "\n",
              "<svg xmlns=\"http://www.w3.org/2000/svg\" height=\"24px\"viewBox=\"0 0 24 24\"\n",
              "     width=\"24px\">\n",
              "    <g>\n",
              "        <path d=\"M19 3H5c-1.1 0-2 .9-2 2v14c0 1.1.9 2 2 2h14c1.1 0 2-.9 2-2V5c0-1.1-.9-2-2-2zM9 17H7v-7h2v7zm4 0h-2V7h2v10zm4 0h-2v-4h2v4z\"/>\n",
              "    </g>\n",
              "</svg>\n",
              "  </button>\n",
              "\n",
              "<style>\n",
              "  .colab-df-quickchart {\n",
              "      --bg-color: #E8F0FE;\n",
              "      --fill-color: #1967D2;\n",
              "      --hover-bg-color: #E2EBFA;\n",
              "      --hover-fill-color: #174EA6;\n",
              "      --disabled-fill-color: #AAA;\n",
              "      --disabled-bg-color: #DDD;\n",
              "  }\n",
              "\n",
              "  [theme=dark] .colab-df-quickchart {\n",
              "      --bg-color: #3B4455;\n",
              "      --fill-color: #D2E3FC;\n",
              "      --hover-bg-color: #434B5C;\n",
              "      --hover-fill-color: #FFFFFF;\n",
              "      --disabled-bg-color: #3B4455;\n",
              "      --disabled-fill-color: #666;\n",
              "  }\n",
              "\n",
              "  .colab-df-quickchart {\n",
              "    background-color: var(--bg-color);\n",
              "    border: none;\n",
              "    border-radius: 50%;\n",
              "    cursor: pointer;\n",
              "    display: none;\n",
              "    fill: var(--fill-color);\n",
              "    height: 32px;\n",
              "    padding: 0;\n",
              "    width: 32px;\n",
              "  }\n",
              "\n",
              "  .colab-df-quickchart:hover {\n",
              "    background-color: var(--hover-bg-color);\n",
              "    box-shadow: 0 1px 2px rgba(60, 64, 67, 0.3), 0 1px 3px 1px rgba(60, 64, 67, 0.15);\n",
              "    fill: var(--button-hover-fill-color);\n",
              "  }\n",
              "\n",
              "  .colab-df-quickchart-complete:disabled,\n",
              "  .colab-df-quickchart-complete:disabled:hover {\n",
              "    background-color: var(--disabled-bg-color);\n",
              "    fill: var(--disabled-fill-color);\n",
              "    box-shadow: none;\n",
              "  }\n",
              "\n",
              "  .colab-df-spinner {\n",
              "    border: 2px solid var(--fill-color);\n",
              "    border-color: transparent;\n",
              "    border-bottom-color: var(--fill-color);\n",
              "    animation:\n",
              "      spin 1s steps(1) infinite;\n",
              "  }\n",
              "\n",
              "  @keyframes spin {\n",
              "    0% {\n",
              "      border-color: transparent;\n",
              "      border-bottom-color: var(--fill-color);\n",
              "      border-left-color: var(--fill-color);\n",
              "    }\n",
              "    20% {\n",
              "      border-color: transparent;\n",
              "      border-left-color: var(--fill-color);\n",
              "      border-top-color: var(--fill-color);\n",
              "    }\n",
              "    30% {\n",
              "      border-color: transparent;\n",
              "      border-left-color: var(--fill-color);\n",
              "      border-top-color: var(--fill-color);\n",
              "      border-right-color: var(--fill-color);\n",
              "    }\n",
              "    40% {\n",
              "      border-color: transparent;\n",
              "      border-right-color: var(--fill-color);\n",
              "      border-top-color: var(--fill-color);\n",
              "    }\n",
              "    60% {\n",
              "      border-color: transparent;\n",
              "      border-right-color: var(--fill-color);\n",
              "    }\n",
              "    80% {\n",
              "      border-color: transparent;\n",
              "      border-right-color: var(--fill-color);\n",
              "      border-bottom-color: var(--fill-color);\n",
              "    }\n",
              "    90% {\n",
              "      border-color: transparent;\n",
              "      border-bottom-color: var(--fill-color);\n",
              "    }\n",
              "  }\n",
              "</style>\n",
              "\n",
              "  <script>\n",
              "    async function quickchart(key) {\n",
              "      const quickchartButtonEl =\n",
              "        document.querySelector('#' + key + ' button');\n",
              "      quickchartButtonEl.disabled = true;  // To prevent multiple clicks.\n",
              "      quickchartButtonEl.classList.add('colab-df-spinner');\n",
              "      try {\n",
              "        const charts = await google.colab.kernel.invokeFunction(\n",
              "            'suggestCharts', [key], {});\n",
              "      } catch (error) {\n",
              "        console.error('Error during call to suggestCharts:', error);\n",
              "      }\n",
              "      quickchartButtonEl.classList.remove('colab-df-spinner');\n",
              "      quickchartButtonEl.classList.add('colab-df-quickchart-complete');\n",
              "    }\n",
              "    (() => {\n",
              "      let quickchartButtonEl =\n",
              "        document.querySelector('#df-351e857d-5340-4bfc-9645-95c405225e6c button');\n",
              "      quickchartButtonEl.style.display =\n",
              "        google.colab.kernel.accessAllowed ? 'block' : 'none';\n",
              "    })();\n",
              "  </script>\n",
              "</div>\n",
              "\n",
              "    </div>\n",
              "  </div>\n"
            ]
          },
          "metadata": {},
          "execution_count": 342
        }
      ]
    },
    {
      "cell_type": "markdown",
      "source": [
        "**Removing the non-numerical columns in the given dataset.**"
      ],
      "metadata": {
        "id": "7lmNG4YOX-JJ"
      }
    },
    {
      "cell_type": "code",
      "source": [
        "import pandas as pd\n",
        "\n",
        "non_numeric_columns = ['insurance_validity', 'ownsership', 'transmission','registration_year','manufacturing_year']\n",
        "\n",
        "car_data = car_data.drop(non_numeric_columns, axis=1)\n",
        "print(car_data)\n"
      ],
      "metadata": {
        "colab": {
          "base_uri": "https://localhost:8080/"
        },
        "id": "eFmmGI1cXXVl",
        "outputId": "caac5d1a-3d94-4871-d5b6-8ab9ddead3d7"
      },
      "execution_count": null,
      "outputs": [
        {
          "output_type": "stream",
          "name": "stdout",
          "text": [
            "      Unnamed: 0                                           car_name  \\\n",
            "0              0                    2017 Mercedes-Benz S-Class S400   \n",
            "1              1  2020 Nissan Magnite Turbo CVT XV Premium Opt BSVI   \n",
            "2              2                       2018 BMW X1 sDrive 20d xLine   \n",
            "3              3                           2019 Kia Seltos GTX Plus   \n",
            "4              4                    2019 Skoda Superb LK 1.8 TSI AT   \n",
            "...          ...                                                ...   \n",
            "1544        1548           2020 Hyundai Creta SX Opt Diesel AT BSVI   \n",
            "1545        1549                 2022 Renault KWID 1.0 RXL Opt BSVI   \n",
            "1546        1550                           2017 Honda WR-V i-VTEC S   \n",
            "1547        1551           2018 Volkswagen Polo 1.0 MPI Comfortline   \n",
            "1548        1552                        2018 Maruti Swift Dzire VXI   \n",
            "\n",
            "      fuel_type  seats  kms_driven  mileage(kmpl)  engine(cc)  max_power(bhp)  \\\n",
            "0             1      5       56000           7.81      2996.0          2996.0   \n",
            "1             1      5       30615          17.40       999.0           999.0   \n",
            "2             2      5       24000          20.68      1995.0          1995.0   \n",
            "3             1      5       18378          16.50      1353.0          1353.0   \n",
            "4             1      5       44900          14.67      1798.0          1798.0   \n",
            "...         ...    ...         ...            ...         ...             ...   \n",
            "1544          2      5       35000        1493.00     11345.0         11345.0   \n",
            "1545          1      5       10000         999.00      6706.0          6706.0   \n",
            "1546          1      5       49000          17.50      1199.0          1199.0   \n",
            "1547          1      5       40000          18.78       999.0           999.0   \n",
            "1548          1      5       34756          20.85      1197.0          1197.0   \n",
            "\n",
            "      torque(Nm)  price(in lakhs)  \n",
            "0          333.0            63.75  \n",
            "1         9863.0             8.99  \n",
            "2          188.0            23.75  \n",
            "3        13808.0            13.56  \n",
            "4        17746.0            24.00  \n",
            "...          ...              ...  \n",
            "1544       250.0            17.41  \n",
            "1545        91.0             3.98  \n",
            "1546       887.0             5.85  \n",
            "1547        75.0             4.75  \n",
            "1548      8314.0             6.10  \n",
            "\n",
            "[1549 rows x 10 columns]\n"
          ]
        }
      ]
    },
    {
      "cell_type": "code",
      "source": [
        "car_data.head()"
      ],
      "metadata": {
        "colab": {
          "base_uri": "https://localhost:8080/",
          "height": 310
        },
        "id": "9KauuTlqXzTR",
        "outputId": "8bff9fc7-8c15-48c5-ecba-c98754de25ec"
      },
      "execution_count": null,
      "outputs": [
        {
          "output_type": "execute_result",
          "data": {
            "text/plain": [
              "   Unnamed: 0                                           car_name  fuel_type  \\\n",
              "0           0                    2017 Mercedes-Benz S-Class S400          1   \n",
              "1           1  2020 Nissan Magnite Turbo CVT XV Premium Opt BSVI          1   \n",
              "2           2                       2018 BMW X1 sDrive 20d xLine          2   \n",
              "3           3                           2019 Kia Seltos GTX Plus          1   \n",
              "4           4                    2019 Skoda Superb LK 1.8 TSI AT          1   \n",
              "\n",
              "   seats  kms_driven  mileage(kmpl)  engine(cc)  max_power(bhp)  torque(Nm)  \\\n",
              "0      5       56000           7.81      2996.0          2996.0       333.0   \n",
              "1      5       30615          17.40       999.0           999.0      9863.0   \n",
              "2      5       24000          20.68      1995.0          1995.0       188.0   \n",
              "3      5       18378          16.50      1353.0          1353.0     13808.0   \n",
              "4      5       44900          14.67      1798.0          1798.0     17746.0   \n",
              "\n",
              "   price(in lakhs)  \n",
              "0            63.75  \n",
              "1             8.99  \n",
              "2            23.75  \n",
              "3            13.56  \n",
              "4            24.00  "
            ],
            "text/html": [
              "\n",
              "  <div id=\"df-a954f8ab-a469-44d8-8e35-9ae0588b5168\" class=\"colab-df-container\">\n",
              "    <div>\n",
              "<style scoped>\n",
              "    .dataframe tbody tr th:only-of-type {\n",
              "        vertical-align: middle;\n",
              "    }\n",
              "\n",
              "    .dataframe tbody tr th {\n",
              "        vertical-align: top;\n",
              "    }\n",
              "\n",
              "    .dataframe thead th {\n",
              "        text-align: right;\n",
              "    }\n",
              "</style>\n",
              "<table border=\"1\" class=\"dataframe\">\n",
              "  <thead>\n",
              "    <tr style=\"text-align: right;\">\n",
              "      <th></th>\n",
              "      <th>Unnamed: 0</th>\n",
              "      <th>car_name</th>\n",
              "      <th>fuel_type</th>\n",
              "      <th>seats</th>\n",
              "      <th>kms_driven</th>\n",
              "      <th>mileage(kmpl)</th>\n",
              "      <th>engine(cc)</th>\n",
              "      <th>max_power(bhp)</th>\n",
              "      <th>torque(Nm)</th>\n",
              "      <th>price(in lakhs)</th>\n",
              "    </tr>\n",
              "  </thead>\n",
              "  <tbody>\n",
              "    <tr>\n",
              "      <th>0</th>\n",
              "      <td>0</td>\n",
              "      <td>2017 Mercedes-Benz S-Class S400</td>\n",
              "      <td>1</td>\n",
              "      <td>5</td>\n",
              "      <td>56000</td>\n",
              "      <td>7.81</td>\n",
              "      <td>2996.0</td>\n",
              "      <td>2996.0</td>\n",
              "      <td>333.0</td>\n",
              "      <td>63.75</td>\n",
              "    </tr>\n",
              "    <tr>\n",
              "      <th>1</th>\n",
              "      <td>1</td>\n",
              "      <td>2020 Nissan Magnite Turbo CVT XV Premium Opt BSVI</td>\n",
              "      <td>1</td>\n",
              "      <td>5</td>\n",
              "      <td>30615</td>\n",
              "      <td>17.40</td>\n",
              "      <td>999.0</td>\n",
              "      <td>999.0</td>\n",
              "      <td>9863.0</td>\n",
              "      <td>8.99</td>\n",
              "    </tr>\n",
              "    <tr>\n",
              "      <th>2</th>\n",
              "      <td>2</td>\n",
              "      <td>2018 BMW X1 sDrive 20d xLine</td>\n",
              "      <td>2</td>\n",
              "      <td>5</td>\n",
              "      <td>24000</td>\n",
              "      <td>20.68</td>\n",
              "      <td>1995.0</td>\n",
              "      <td>1995.0</td>\n",
              "      <td>188.0</td>\n",
              "      <td>23.75</td>\n",
              "    </tr>\n",
              "    <tr>\n",
              "      <th>3</th>\n",
              "      <td>3</td>\n",
              "      <td>2019 Kia Seltos GTX Plus</td>\n",
              "      <td>1</td>\n",
              "      <td>5</td>\n",
              "      <td>18378</td>\n",
              "      <td>16.50</td>\n",
              "      <td>1353.0</td>\n",
              "      <td>1353.0</td>\n",
              "      <td>13808.0</td>\n",
              "      <td>13.56</td>\n",
              "    </tr>\n",
              "    <tr>\n",
              "      <th>4</th>\n",
              "      <td>4</td>\n",
              "      <td>2019 Skoda Superb LK 1.8 TSI AT</td>\n",
              "      <td>1</td>\n",
              "      <td>5</td>\n",
              "      <td>44900</td>\n",
              "      <td>14.67</td>\n",
              "      <td>1798.0</td>\n",
              "      <td>1798.0</td>\n",
              "      <td>17746.0</td>\n",
              "      <td>24.00</td>\n",
              "    </tr>\n",
              "  </tbody>\n",
              "</table>\n",
              "</div>\n",
              "    <div class=\"colab-df-buttons\">\n",
              "\n",
              "  <div class=\"colab-df-container\">\n",
              "    <button class=\"colab-df-convert\" onclick=\"convertToInteractive('df-a954f8ab-a469-44d8-8e35-9ae0588b5168')\"\n",
              "            title=\"Convert this dataframe to an interactive table.\"\n",
              "            style=\"display:none;\">\n",
              "\n",
              "  <svg xmlns=\"http://www.w3.org/2000/svg\" height=\"24px\" viewBox=\"0 -960 960 960\">\n",
              "    <path d=\"M120-120v-720h720v720H120Zm60-500h600v-160H180v160Zm220 220h160v-160H400v160Zm0 220h160v-160H400v160ZM180-400h160v-160H180v160Zm440 0h160v-160H620v160ZM180-180h160v-160H180v160Zm440 0h160v-160H620v160Z\"/>\n",
              "  </svg>\n",
              "    </button>\n",
              "\n",
              "  <style>\n",
              "    .colab-df-container {\n",
              "      display:flex;\n",
              "      gap: 12px;\n",
              "    }\n",
              "\n",
              "    .colab-df-convert {\n",
              "      background-color: #E8F0FE;\n",
              "      border: none;\n",
              "      border-radius: 50%;\n",
              "      cursor: pointer;\n",
              "      display: none;\n",
              "      fill: #1967D2;\n",
              "      height: 32px;\n",
              "      padding: 0 0 0 0;\n",
              "      width: 32px;\n",
              "    }\n",
              "\n",
              "    .colab-df-convert:hover {\n",
              "      background-color: #E2EBFA;\n",
              "      box-shadow: 0px 1px 2px rgba(60, 64, 67, 0.3), 0px 1px 3px 1px rgba(60, 64, 67, 0.15);\n",
              "      fill: #174EA6;\n",
              "    }\n",
              "\n",
              "    .colab-df-buttons div {\n",
              "      margin-bottom: 4px;\n",
              "    }\n",
              "\n",
              "    [theme=dark] .colab-df-convert {\n",
              "      background-color: #3B4455;\n",
              "      fill: #D2E3FC;\n",
              "    }\n",
              "\n",
              "    [theme=dark] .colab-df-convert:hover {\n",
              "      background-color: #434B5C;\n",
              "      box-shadow: 0px 1px 3px 1px rgba(0, 0, 0, 0.15);\n",
              "      filter: drop-shadow(0px 1px 2px rgba(0, 0, 0, 0.3));\n",
              "      fill: #FFFFFF;\n",
              "    }\n",
              "  </style>\n",
              "\n",
              "    <script>\n",
              "      const buttonEl =\n",
              "        document.querySelector('#df-a954f8ab-a469-44d8-8e35-9ae0588b5168 button.colab-df-convert');\n",
              "      buttonEl.style.display =\n",
              "        google.colab.kernel.accessAllowed ? 'block' : 'none';\n",
              "\n",
              "      async function convertToInteractive(key) {\n",
              "        const element = document.querySelector('#df-a954f8ab-a469-44d8-8e35-9ae0588b5168');\n",
              "        const dataTable =\n",
              "          await google.colab.kernel.invokeFunction('convertToInteractive',\n",
              "                                                    [key], {});\n",
              "        if (!dataTable) return;\n",
              "\n",
              "        const docLinkHtml = 'Like what you see? Visit the ' +\n",
              "          '<a target=\"_blank\" href=https://colab.research.google.com/notebooks/data_table.ipynb>data table notebook</a>'\n",
              "          + ' to learn more about interactive tables.';\n",
              "        element.innerHTML = '';\n",
              "        dataTable['output_type'] = 'display_data';\n",
              "        await google.colab.output.renderOutput(dataTable, element);\n",
              "        const docLink = document.createElement('div');\n",
              "        docLink.innerHTML = docLinkHtml;\n",
              "        element.appendChild(docLink);\n",
              "      }\n",
              "    </script>\n",
              "  </div>\n",
              "\n",
              "\n",
              "<div id=\"df-19ae43ee-d9a9-40b5-8883-c9c8019bcf39\">\n",
              "  <button class=\"colab-df-quickchart\" onclick=\"quickchart('df-19ae43ee-d9a9-40b5-8883-c9c8019bcf39')\"\n",
              "            title=\"Suggest charts\"\n",
              "            style=\"display:none;\">\n",
              "\n",
              "<svg xmlns=\"http://www.w3.org/2000/svg\" height=\"24px\"viewBox=\"0 0 24 24\"\n",
              "     width=\"24px\">\n",
              "    <g>\n",
              "        <path d=\"M19 3H5c-1.1 0-2 .9-2 2v14c0 1.1.9 2 2 2h14c1.1 0 2-.9 2-2V5c0-1.1-.9-2-2-2zM9 17H7v-7h2v7zm4 0h-2V7h2v10zm4 0h-2v-4h2v4z\"/>\n",
              "    </g>\n",
              "</svg>\n",
              "  </button>\n",
              "\n",
              "<style>\n",
              "  .colab-df-quickchart {\n",
              "      --bg-color: #E8F0FE;\n",
              "      --fill-color: #1967D2;\n",
              "      --hover-bg-color: #E2EBFA;\n",
              "      --hover-fill-color: #174EA6;\n",
              "      --disabled-fill-color: #AAA;\n",
              "      --disabled-bg-color: #DDD;\n",
              "  }\n",
              "\n",
              "  [theme=dark] .colab-df-quickchart {\n",
              "      --bg-color: #3B4455;\n",
              "      --fill-color: #D2E3FC;\n",
              "      --hover-bg-color: #434B5C;\n",
              "      --hover-fill-color: #FFFFFF;\n",
              "      --disabled-bg-color: #3B4455;\n",
              "      --disabled-fill-color: #666;\n",
              "  }\n",
              "\n",
              "  .colab-df-quickchart {\n",
              "    background-color: var(--bg-color);\n",
              "    border: none;\n",
              "    border-radius: 50%;\n",
              "    cursor: pointer;\n",
              "    display: none;\n",
              "    fill: var(--fill-color);\n",
              "    height: 32px;\n",
              "    padding: 0;\n",
              "    width: 32px;\n",
              "  }\n",
              "\n",
              "  .colab-df-quickchart:hover {\n",
              "    background-color: var(--hover-bg-color);\n",
              "    box-shadow: 0 1px 2px rgba(60, 64, 67, 0.3), 0 1px 3px 1px rgba(60, 64, 67, 0.15);\n",
              "    fill: var(--button-hover-fill-color);\n",
              "  }\n",
              "\n",
              "  .colab-df-quickchart-complete:disabled,\n",
              "  .colab-df-quickchart-complete:disabled:hover {\n",
              "    background-color: var(--disabled-bg-color);\n",
              "    fill: var(--disabled-fill-color);\n",
              "    box-shadow: none;\n",
              "  }\n",
              "\n",
              "  .colab-df-spinner {\n",
              "    border: 2px solid var(--fill-color);\n",
              "    border-color: transparent;\n",
              "    border-bottom-color: var(--fill-color);\n",
              "    animation:\n",
              "      spin 1s steps(1) infinite;\n",
              "  }\n",
              "\n",
              "  @keyframes spin {\n",
              "    0% {\n",
              "      border-color: transparent;\n",
              "      border-bottom-color: var(--fill-color);\n",
              "      border-left-color: var(--fill-color);\n",
              "    }\n",
              "    20% {\n",
              "      border-color: transparent;\n",
              "      border-left-color: var(--fill-color);\n",
              "      border-top-color: var(--fill-color);\n",
              "    }\n",
              "    30% {\n",
              "      border-color: transparent;\n",
              "      border-left-color: var(--fill-color);\n",
              "      border-top-color: var(--fill-color);\n",
              "      border-right-color: var(--fill-color);\n",
              "    }\n",
              "    40% {\n",
              "      border-color: transparent;\n",
              "      border-right-color: var(--fill-color);\n",
              "      border-top-color: var(--fill-color);\n",
              "    }\n",
              "    60% {\n",
              "      border-color: transparent;\n",
              "      border-right-color: var(--fill-color);\n",
              "    }\n",
              "    80% {\n",
              "      border-color: transparent;\n",
              "      border-right-color: var(--fill-color);\n",
              "      border-bottom-color: var(--fill-color);\n",
              "    }\n",
              "    90% {\n",
              "      border-color: transparent;\n",
              "      border-bottom-color: var(--fill-color);\n",
              "    }\n",
              "  }\n",
              "</style>\n",
              "\n",
              "  <script>\n",
              "    async function quickchart(key) {\n",
              "      const quickchartButtonEl =\n",
              "        document.querySelector('#' + key + ' button');\n",
              "      quickchartButtonEl.disabled = true;  // To prevent multiple clicks.\n",
              "      quickchartButtonEl.classList.add('colab-df-spinner');\n",
              "      try {\n",
              "        const charts = await google.colab.kernel.invokeFunction(\n",
              "            'suggestCharts', [key], {});\n",
              "      } catch (error) {\n",
              "        console.error('Error during call to suggestCharts:', error);\n",
              "      }\n",
              "      quickchartButtonEl.classList.remove('colab-df-spinner');\n",
              "      quickchartButtonEl.classList.add('colab-df-quickchart-complete');\n",
              "    }\n",
              "    (() => {\n",
              "      let quickchartButtonEl =\n",
              "        document.querySelector('#df-19ae43ee-d9a9-40b5-8883-c9c8019bcf39 button');\n",
              "      quickchartButtonEl.style.display =\n",
              "        google.colab.kernel.accessAllowed ? 'block' : 'none';\n",
              "    })();\n",
              "  </script>\n",
              "</div>\n",
              "\n",
              "    </div>\n",
              "  </div>\n"
            ]
          },
          "metadata": {},
          "execution_count": 344
        }
      ]
    },
    {
      "cell_type": "code",
      "source": [
        "plt.figure(figsize=(10,7))\n",
        "sns.heatmap(car_data.corr(), annot=True)\n",
        "plt.title('Correlation between the columns')\n",
        "plt.show()"
      ],
      "metadata": {
        "colab": {
          "base_uri": "https://localhost:8080/",
          "height": 781
        },
        "id": "74LI1V-mYQaO",
        "outputId": "f1462eee-8a87-449d-ec53-1a06766b0293"
      },
      "execution_count": null,
      "outputs": [
        {
          "output_type": "stream",
          "name": "stderr",
          "text": [
            "<ipython-input-345-c7b23842a19e>:2: FutureWarning: The default value of numeric_only in DataFrame.corr is deprecated. In a future version, it will default to False. Select only valid columns or specify the value of numeric_only to silence this warning.\n",
            "  sns.heatmap(car_data.corr(), annot=True)\n"
          ]
        },
        {
          "output_type": "display_data",
          "data": {
            "text/plain": [
              "<Figure size 1000x700 with 2 Axes>"
            ],
            "image/png": "[encoded data removed]"
          },
          "metadata": {}
        }
      ]
    },
    {
      "cell_type": "markdown",
      "source": [
        "**Splitting the data and Target**"
      ],
      "metadata": {
        "id": "YO53Hz6BreC5"
      }
    },
    {
      "cell_type": "code",
      "source": [
        "X = car_data.drop(['car_name','price(in lakhs)'],axis=1)\n",
        "y = car_data['price(in lakhs)']\n",
        "print(X)\n",
        "print(y)"
      ],
      "metadata": {
        "id": "Jrk0bl7Xj_7k",
        "colab": {
          "base_uri": "https://localhost:8080/"
        },
        "outputId": "675e7be1-265e-4c26-a88f-20759b7da860"
      },
      "execution_count": null,
      "outputs": [
        {
          "output_type": "stream",
          "name": "stdout",
          "text": [
            "      Unnamed: 0  fuel_type  seats  kms_driven  mileage(kmpl)  engine(cc)  \\\n",
            "0              0          1      5       56000           7.81      2996.0   \n",
            "1              1          1      5       30615          17.40       999.0   \n",
            "2              2          2      5       24000          20.68      1995.0   \n",
            "3              3          1      5       18378          16.50      1353.0   \n",
            "4              4          1      5       44900          14.67      1798.0   \n",
            "...          ...        ...    ...         ...            ...         ...   \n",
            "1544        1548          2      5       35000        1493.00     11345.0   \n",
            "1545        1549          1      5       10000         999.00      6706.0   \n",
            "1546        1550          1      5       49000          17.50      1199.0   \n",
            "1547        1551          1      5       40000          18.78       999.0   \n",
            "1548        1552          1      5       34756          20.85      1197.0   \n",
            "\n",
            "      max_power(bhp)  torque(Nm)  \n",
            "0             2996.0       333.0  \n",
            "1              999.0      9863.0  \n",
            "2             1995.0       188.0  \n",
            "3             1353.0     13808.0  \n",
            "4             1798.0     17746.0  \n",
            "...              ...         ...  \n",
            "1544         11345.0       250.0  \n",
            "1545          6706.0        91.0  \n",
            "1546          1199.0       887.0  \n",
            "1547           999.0        75.0  \n",
            "1548          1197.0      8314.0  \n",
            "\n",
            "[1549 rows x 8 columns]\n",
            "0       63.75\n",
            "1        8.99\n",
            "2       23.75\n",
            "3       13.56\n",
            "4       24.00\n",
            "        ...  \n",
            "1544    17.41\n",
            "1545     3.98\n",
            "1546     5.85\n",
            "1547     4.75\n",
            "1548     6.10\n",
            "Name: price(in lakhs), Length: 1549, dtype: float64\n"
          ]
        }
      ]
    },
    {
      "cell_type": "markdown",
      "source": [
        "**Shape of the data**"
      ],
      "metadata": {
        "id": "C8BAkFUzrqXu"
      }
    },
    {
      "cell_type": "code",
      "source": [
        "print(\"Shape of X is: \",X.shape)\n",
        "print(\"Shape of y is: \", y.shape)"
      ],
      "metadata": {
        "colab": {
          "base_uri": "https://localhost:8080/"
        },
        "id": "RBS2TDk0kQIz",
        "outputId": "db447da2-7ccc-4793-8e56-4995b8cdd39b"
      },
      "execution_count": null,
      "outputs": [
        {
          "output_type": "stream",
          "name": "stdout",
          "text": [
            "Shape of X is:  (1549, 8)\n",
            "Shape of y is:  (1549,)\n"
          ]
        }
      ]
    },
    {
      "cell_type": "markdown",
      "source": [
        "**Splitting Training and Test data**"
      ],
      "metadata": {
        "id": "sXY4K0_FrnXQ"
      }
    },
    {
      "cell_type": "code",
      "source": [
        "X_train, X_test, y_train, y_test = train_test_split(X,y, test_size=0.2, random_state=2)"
      ],
      "metadata": {
        "id": "7dOhl5-ckVj5"
      },
      "execution_count": null,
      "outputs": []
    },
    {
      "cell_type": "markdown",
      "source": [
        "**Model Training**"
      ],
      "metadata": {
        "id": "shvBmzaVrzbd"
      }
    },
    {
      "cell_type": "markdown",
      "source": [
        "**1.Linear Regression**"
      ],
      "metadata": {
        "id": "nsveoZ2dr5Lg"
      }
    },
    {
      "cell_type": "code",
      "source": [
        "# loading the linear regression model\n",
        "lin_reg_model = LinearRegression()"
      ],
      "metadata": {
        "id": "rlAsHoJhoy-D"
      },
      "execution_count": null,
      "outputs": []
    },
    {
      "cell_type": "code",
      "source": [
        "lin_reg_model.fit(X_train,y_train)"
      ],
      "metadata": {
        "colab": {
          "base_uri": "https://localhost:8080/",
          "height": 74
        },
        "id": "24tLiCy2o2cj",
        "outputId": "c8e9d31f-e014-4ce7-fdba-290007247991"
      },
      "execution_count": null,
      "outputs": [
        {
          "output_type": "execute_result",
          "data": {
            "text/plain": [
              "LinearRegression()"
            ],
            "text/html": [
              "<style>#sk-container-id-22 {color: black;background-color: white;}#sk-container-id-22 pre{padding: 0;}#sk-container-id-22 div.sk-toggleable {background-color: white;}#sk-container-id-22 label.sk-toggleable__label {cursor: pointer;display: block;width: 100%;margin-bottom: 0;padding: 0.3em;box-sizing: border-box;text-align: center;}#sk-container-id-22 label.sk-toggleable__label-arrow:before {content: \"▸\";float: left;margin-right: 0.25em;color: #696969;}#sk-container-id-22 label.sk-toggleable__label-arrow:hover:before {color: black;}#sk-container-id-22 div.sk-estimator:hover label.sk-toggleable__label-arrow:before {color: black;}#sk-container-id-22 div.sk-toggleable__content {max-height: 0;max-width: 0;overflow: hidden;text-align: left;background-color: #f0f8ff;}#sk-container-id-22 div.sk-toggleable__content pre {margin: 0.2em;color: black;border-radius: 0.25em;background-color: #f0f8ff;}#sk-container-id-22 input.sk-toggleable__control:checked~div.sk-toggleable__content {max-height: 200px;max-width: 100%;overflow: auto;}#sk-container-id-22 input.sk-toggleable__control:checked~label.sk-toggleable__label-arrow:before {content: \"▾\";}#sk-container-id-22 div.sk-estimator input.sk-toggleable__control:checked~label.sk-toggleable__label {background-color: #d4ebff;}#sk-container-id-22 div.sk-label input.sk-toggleable__control:checked~label.sk-toggleable__label {background-color: #d4ebff;}#sk-container-id-22 input.sk-hidden--visually {border: 0;clip: rect(1px 1px 1px 1px);clip: rect(1px, 1px, 1px, 1px);height: 1px;margin: -1px;overflow: hidden;padding: 0;position: absolute;width: 1px;}#sk-container-id-22 div.sk-estimator {font-family: monospace;background-color: #f0f8ff;border: 1px dotted black;border-radius: 0.25em;box-sizing: border-box;margin-bottom: 0.5em;}#sk-container-id-22 div.sk-estimator:hover {background-color: #d4ebff;}#sk-container-id-22 div.sk-parallel-item::after {content: \"\";width: 100%;border-bottom: 1px solid gray;flex-grow: 1;}#sk-container-id-22 div.sk-label:hover label.sk-toggleable__label {background-color: #d4ebff;}#sk-container-id-22 div.sk-serial::before {content: \"\";position: absolute;border-left: 1px solid gray;box-sizing: border-box;top: 0;bottom: 0;left: 50%;z-index: 0;}#sk-container-id-22 div.sk-serial {display: flex;flex-direction: column;align-items: center;background-color: white;padding-right: 0.2em;padding-left: 0.2em;position: relative;}#sk-container-id-22 div.sk-item {position: relative;z-index: 1;}#sk-container-id-22 div.sk-parallel {display: flex;align-items: stretch;justify-content: center;background-color: white;position: relative;}#sk-container-id-22 div.sk-item::before, #sk-container-id-22 div.sk-parallel-item::before {content: \"\";position: absolute;border-left: 1px solid gray;box-sizing: border-box;top: 0;bottom: 0;left: 50%;z-index: -1;}#sk-container-id-22 div.sk-parallel-item {display: flex;flex-direction: column;z-index: 1;position: relative;background-color: white;}#sk-container-id-22 div.sk-parallel-item:first-child::after {align-self: flex-end;width: 50%;}#sk-container-id-22 div.sk-parallel-item:last-child::after {align-self: flex-start;width: 50%;}#sk-container-id-22 div.sk-parallel-item:only-child::after {width: 0;}#sk-container-id-22 div.sk-dashed-wrapped {border: 1px dashed gray;margin: 0 0.4em 0.5em 0.4em;box-sizing: border-box;padding-bottom: 0.4em;background-color: white;}#sk-container-id-22 div.sk-label label {font-family: monospace;font-weight: bold;display: inline-block;line-height: 1.2em;}#sk-container-id-22 div.sk-label-container {text-align: center;}#sk-container-id-22 div.sk-container {/* jupyter's `normalize.less` sets `[hidden] { display: none; }` but bootstrap.min.css set `[hidden] { display: none !important; }` so we also need the `!important` here to be able to override the default hidden behavior on the sphinx rendered scikit-learn.org. See: https://github.com/scikit-learn/scikit-learn/issues/21755 */display: inline-block !important;position: relative;}#sk-container-id-22 div.sk-text-repr-fallback {display: none;}</style><div id=\"sk-container-id-22\" class=\"sk-top-container\"><div class=\"sk-text-repr-fallback\"><pre>LinearRegression()</pre><b>In a Jupyter environment, please rerun this cell to show the HTML representation or trust the notebook. <br />On GitHub, the HTML representation is unable to render, please try loading this page with nbviewer.org.</b></div><div class=\"sk-container\" hidden><div class=\"sk-item\"><div class=\"sk-estimator sk-toggleable\"><input class=\"sk-toggleable__control sk-hidden--visually\" id=\"sk-estimator-id-22\" type=\"checkbox\" checked><label for=\"sk-estimator-id-22\" class=\"sk-toggleable__label sk-toggleable__label-arrow\">LinearRegression</label><div class=\"sk-toggleable__content\"><pre>LinearRegression()</pre></div></div></div></div></div>"
            ]
          },
          "metadata": {},
          "execution_count": 350
        }
      ]
    },
    {
      "cell_type": "markdown",
      "source": [
        "**Model Evaluation**"
      ],
      "metadata": {
        "id": "ErKM3x7ZsFv1"
      }
    },
    {
      "cell_type": "code",
      "source": [
        "# prediction on Training data\n",
        "training_data_prediction = lin_reg_model.predict(X_train)"
      ],
      "metadata": {
        "id": "Zw0xgdZmo9Nt"
      },
      "execution_count": null,
      "outputs": []
    },
    {
      "cell_type": "code",
      "source": [
        "# R squared Error\n",
        "error_score = metrics.r2_score(y_train, training_data_prediction)\n",
        "print(\"R squared Error : \", error_score)"
      ],
      "metadata": {
        "colab": {
          "base_uri": "https://localhost:8080/"
        },
        "id": "k_RXdHqwpBn9",
        "outputId": "a8520dee-14ab-4c24-f5ef-1514dac9495f"
      },
      "execution_count": null,
      "outputs": [
        {
          "output_type": "stream",
          "name": "stdout",
          "text": [
            "R squared Error :  0.0014066242366728154\n"
          ]
        }
      ]
    },
    {
      "cell_type": "markdown",
      "source": [
        "A value close to zero (0.0014) suggests that the independent variables in our regression model are not effective in explaining the variability in the dependent variable. This could mean that the model is **not a good fit for the data**, and the chosen independent variables are not strongly related to the dependent variable."
      ],
      "metadata": {
        "id": "5auuR_WwzLRz"
      }
    },
    {
      "cell_type": "markdown",
      "source": [
        "**Visualize the actual prices and Predicted prices**"
      ],
      "metadata": {
        "id": "uypDl7aksK3-"
      }
    },
    {
      "cell_type": "code",
      "source": [
        "plt.scatter(y_train, training_data_prediction)\n",
        "plt.xlabel(\"Actual Price\")\n",
        "plt.ylabel(\"Predicted Price\")\n",
        "plt.title(\" Actual Prices vs Predicted Prices\")\n",
        "plt.show()"
      ],
      "metadata": {
        "colab": {
          "base_uri": "https://localhost:8080/",
          "height": 477
        },
        "id": "a3YoudcxpJyc",
        "outputId": "309c85f2-23cf-4260-8b6b-eb1dba436b50"
      },
      "execution_count": null,
      "outputs": [
        {
          "output_type": "display_data",
          "data": {
            "text/plain": [
              "<Figure size 640x480 with 1 Axes>"
            ],
            "image/png": "[encoded data removed]"
          },
          "metadata": {}
        }
      ]
    },
    {
      "cell_type": "code",
      "source": [
        "# prediction on Testing data\n",
        "test_data_prediction = lin_reg_model.predict(X_test)"
      ],
      "metadata": {
        "id": "6ezZy9sapwFf"
      },
      "execution_count": null,
      "outputs": []
    },
    {
      "cell_type": "code",
      "source": [
        "# R squared Error\n",
        "error_score = metrics.r2_score(y_test, test_data_prediction)\n",
        "print(\"R squared Error : \", error_score)"
      ],
      "metadata": {
        "colab": {
          "base_uri": "https://localhost:8080/"
        },
        "id": "BxoJQn7Dp3AE",
        "outputId": "72df6882-67d1-4d11-af6a-4717e78453d8"
      },
      "execution_count": null,
      "outputs": [
        {
          "output_type": "stream",
          "name": "stdout",
          "text": [
            "R squared Error :  0.004320321726065446\n"
          ]
        }
      ]
    },
    {
      "cell_type": "code",
      "source": [
        "plt.scatter(y_test, test_data_prediction)\n",
        "plt.xlabel(\"Actual Price\")\n",
        "plt.ylabel(\"Predicted Price\")\n",
        "plt.title(\" Actual Prices vs Predicted Prices\")\n",
        "plt.show()"
      ],
      "metadata": {
        "colab": {
          "base_uri": "https://localhost:8080/",
          "height": 477
        },
        "id": "bf5L23bhqKRw",
        "outputId": "a13316bf-92f3-46fe-8629-ce3dbf3f54cc"
      },
      "execution_count": null,
      "outputs": [
        {
          "output_type": "display_data",
          "data": {
            "text/plain": [
              "<Figure size 640x480 with 1 Axes>"
            ],
            "image/png": "[encoded data removed]"
          },
          "metadata": {}
        }
      ]
    },
    {
      "cell_type": "markdown",
      "source": [
        "**2.Lasso Regression**"
      ],
      "metadata": {
        "id": "XQ-H8pVmypm4"
      }
    },
    {
      "cell_type": "code",
      "source": [
        "from sklearn.linear_model import Lasso\n",
        "from sklearn.model_selection import train_test_split\n",
        "from sklearn.metrics import r2_score\n",
        "from sklearn.preprocessing import StandardScaler\n",
        "# loading the linear regression model\n",
        "lass_reg_model = Lasso()"
      ],
      "metadata": {
        "id": "WJEDk4d5uI7a"
      },
      "execution_count": null,
      "outputs": []
    },
    {
      "cell_type": "code",
      "source": [
        "lass_reg_model.fit(X_train,y_train)"
      ],
      "metadata": {
        "colab": {
          "base_uri": "https://localhost:8080/",
          "height": 74
        },
        "id": "8Dy4Fx6bumc9",
        "outputId": "90a8c1df-755f-4a6f-e0b3-09fefed8ceef"
      },
      "execution_count": null,
      "outputs": [
        {
          "output_type": "execute_result",
          "data": {
            "text/plain": [
              "Lasso()"
            ],
            "text/html": [
              "<style>#sk-container-id-23 {color: black;background-color: white;}#sk-container-id-23 pre{padding: 0;}#sk-container-id-23 div.sk-toggleable {background-color: white;}#sk-container-id-23 label.sk-toggleable__label {cursor: pointer;display: block;width: 100%;margin-bottom: 0;padding: 0.3em;box-sizing: border-box;text-align: center;}#sk-container-id-23 label.sk-toggleable__label-arrow:before {content: \"▸\";float: left;margin-right: 0.25em;color: #696969;}#sk-container-id-23 label.sk-toggleable__label-arrow:hover:before {color: black;}#sk-container-id-23 div.sk-estimator:hover label.sk-toggleable__label-arrow:before {color: black;}#sk-container-id-23 div.sk-toggleable__content {max-height: 0;max-width: 0;overflow: hidden;text-align: left;background-color: #f0f8ff;}#sk-container-id-23 div.sk-toggleable__content pre {margin: 0.2em;color: black;border-radius: 0.25em;background-color: #f0f8ff;}#sk-container-id-23 input.sk-toggleable__control:checked~div.sk-toggleable__content {max-height: 200px;max-width: 100%;overflow: auto;}#sk-container-id-23 input.sk-toggleable__control:checked~label.sk-toggleable__label-arrow:before {content: \"▾\";}#sk-container-id-23 div.sk-estimator input.sk-toggleable__control:checked~label.sk-toggleable__label {background-color: #d4ebff;}#sk-container-id-23 div.sk-label input.sk-toggleable__control:checked~label.sk-toggleable__label {background-color: #d4ebff;}#sk-container-id-23 input.sk-hidden--visually {border: 0;clip: rect(1px 1px 1px 1px);clip: rect(1px, 1px, 1px, 1px);height: 1px;margin: -1px;overflow: hidden;padding: 0;position: absolute;width: 1px;}#sk-container-id-23 div.sk-estimator {font-family: monospace;background-color: #f0f8ff;border: 1px dotted black;border-radius: 0.25em;box-sizing: border-box;margin-bottom: 0.5em;}#sk-container-id-23 div.sk-estimator:hover {background-color: #d4ebff;}#sk-container-id-23 div.sk-parallel-item::after {content: \"\";width: 100%;border-bottom: 1px solid gray;flex-grow: 1;}#sk-container-id-23 div.sk-label:hover label.sk-toggleable__label {background-color: #d4ebff;}#sk-container-id-23 div.sk-serial::before {content: \"\";position: absolute;border-left: 1px solid gray;box-sizing: border-box;top: 0;bottom: 0;left: 50%;z-index: 0;}#sk-container-id-23 div.sk-serial {display: flex;flex-direction: column;align-items: center;background-color: white;padding-right: 0.2em;padding-left: 0.2em;position: relative;}#sk-container-id-23 div.sk-item {position: relative;z-index: 1;}#sk-container-id-23 div.sk-parallel {display: flex;align-items: stretch;justify-content: center;background-color: white;position: relative;}#sk-container-id-23 div.sk-item::before, #sk-container-id-23 div.sk-parallel-item::before {content: \"\";position: absolute;border-left: 1px solid gray;box-sizing: border-box;top: 0;bottom: 0;left: 50%;z-index: -1;}#sk-container-id-23 div.sk-parallel-item {display: flex;flex-direction: column;z-index: 1;position: relative;background-color: white;}#sk-container-id-23 div.sk-parallel-item:first-child::after {align-self: flex-end;width: 50%;}#sk-container-id-23 div.sk-parallel-item:last-child::after {align-self: flex-start;width: 50%;}#sk-container-id-23 div.sk-parallel-item:only-child::after {width: 0;}#sk-container-id-23 div.sk-dashed-wrapped {border: 1px dashed gray;margin: 0 0.4em 0.5em 0.4em;box-sizing: border-box;padding-bottom: 0.4em;background-color: white;}#sk-container-id-23 div.sk-label label {font-family: monospace;font-weight: bold;display: inline-block;line-height: 1.2em;}#sk-container-id-23 div.sk-label-container {text-align: center;}#sk-container-id-23 div.sk-container {/* jupyter's `normalize.less` sets `[hidden] { display: none; }` but bootstrap.min.css set `[hidden] { display: none !important; }` so we also need the `!important` here to be able to override the default hidden behavior on the sphinx rendered scikit-learn.org. See: https://github.com/scikit-learn/scikit-learn/issues/21755 */display: inline-block !important;position: relative;}#sk-container-id-23 div.sk-text-repr-fallback {display: none;}</style><div id=\"sk-container-id-23\" class=\"sk-top-container\"><div class=\"sk-text-repr-fallback\"><pre>Lasso()</pre><b>In a Jupyter environment, please rerun this cell to show the HTML representation or trust the notebook. <br />On GitHub, the HTML representation is unable to render, please try loading this page with nbviewer.org.</b></div><div class=\"sk-container\" hidden><div class=\"sk-item\"><div class=\"sk-estimator sk-toggleable\"><input class=\"sk-toggleable__control sk-hidden--visually\" id=\"sk-estimator-id-23\" type=\"checkbox\" checked><label for=\"sk-estimator-id-23\" class=\"sk-toggleable__label sk-toggleable__label-arrow\">Lasso</label><div class=\"sk-toggleable__content\"><pre>Lasso()</pre></div></div></div></div></div>"
            ]
          },
          "metadata": {},
          "execution_count": 358
        }
      ]
    },
    {
      "cell_type": "code",
      "source": [
        "# prediction on Training data\n",
        "training_data_prediction = lass_reg_model.predict(X_train)"
      ],
      "metadata": {
        "id": "HGxKFeXcup8J"
      },
      "execution_count": null,
      "outputs": []
    },
    {
      "cell_type": "code",
      "source": [
        "# R squared Error\n",
        "error_score = metrics.r2_score(y_train, training_data_prediction)\n",
        "print(\"R squared Error : \", error_score)"
      ],
      "metadata": {
        "colab": {
          "base_uri": "https://localhost:8080/"
        },
        "id": "4zDrlq6Muxh0",
        "outputId": "60b5a7bd-d710-4979-ec0b-5c1637ac40c4"
      },
      "execution_count": null,
      "outputs": [
        {
          "output_type": "stream",
          "name": "stdout",
          "text": [
            "R squared Error :  0.0014062771470628732\n"
          ]
        }
      ]
    }
  ]
}